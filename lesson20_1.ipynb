{
 "cells": [
  {
   "cell_type": "code",
   "execution_count": 3,
   "metadata": {},
   "outputs": [
    {
     "data": {
      "text/html": [
       "<div>\n",
       "<style scoped>\n",
       "    .dataframe tbody tr th:only-of-type {\n",
       "        vertical-align: middle;\n",
       "    }\n",
       "\n",
       "    .dataframe tbody tr th {\n",
       "        vertical-align: top;\n",
       "    }\n",
       "\n",
       "    .dataframe thead th {\n",
       "        text-align: right;\n",
       "    }\n",
       "</style>\n",
       "<table border=\"1\" class=\"dataframe\">\n",
       "  <thead>\n",
       "    <tr style=\"text-align: right;\">\n",
       "      <th></th>\n",
       "      <th>學號</th>\n",
       "      <th>姓名</th>\n",
       "      <th>國文</th>\n",
       "      <th>英文</th>\n",
       "      <th>數學</th>\n",
       "      <th>地理</th>\n",
       "      <th>歷史</th>\n",
       "      <th>總分</th>\n",
       "      <th>平均</th>\n",
       "      <th>排名</th>\n",
       "    </tr>\n",
       "  </thead>\n",
       "  <tbody>\n",
       "    <tr>\n",
       "      <th>0</th>\n",
       "      <td>2</td>\n",
       "      <td>郭舜昇</td>\n",
       "      <td>99</td>\n",
       "      <td>94</td>\n",
       "      <td>83</td>\n",
       "      <td>61</td>\n",
       "      <td>97</td>\n",
       "      <td>434</td>\n",
       "      <td>86.8</td>\n",
       "      <td>1</td>\n",
       "    </tr>\n",
       "    <tr>\n",
       "      <th>1</th>\n",
       "      <td>4</td>\n",
       "      <td>童建霖</td>\n",
       "      <td>98</td>\n",
       "      <td>94</td>\n",
       "      <td>88</td>\n",
       "      <td>63</td>\n",
       "      <td>78</td>\n",
       "      <td>421</td>\n",
       "      <td>84.2</td>\n",
       "      <td>2</td>\n",
       "    </tr>\n",
       "    <tr>\n",
       "      <th>2</th>\n",
       "      <td>9</td>\n",
       "      <td>游治旺</td>\n",
       "      <td>57</td>\n",
       "      <td>87</td>\n",
       "      <td>71</td>\n",
       "      <td>86</td>\n",
       "      <td>94</td>\n",
       "      <td>395</td>\n",
       "      <td>79.0</td>\n",
       "      <td>3</td>\n",
       "    </tr>\n",
       "    <tr>\n",
       "      <th>3</th>\n",
       "      <td>10</td>\n",
       "      <td>黃佩芬</td>\n",
       "      <td>50</td>\n",
       "      <td>99</td>\n",
       "      <td>56</td>\n",
       "      <td>99</td>\n",
       "      <td>90</td>\n",
       "      <td>394</td>\n",
       "      <td>78.8</td>\n",
       "      <td>4</td>\n",
       "    </tr>\n",
       "    <tr>\n",
       "      <th>4</th>\n",
       "      <td>3</td>\n",
       "      <td>李淑芳</td>\n",
       "      <td>59</td>\n",
       "      <td>75</td>\n",
       "      <td>99</td>\n",
       "      <td>70</td>\n",
       "      <td>78</td>\n",
       "      <td>381</td>\n",
       "      <td>76.2</td>\n",
       "      <td>5</td>\n",
       "    </tr>\n",
       "  </tbody>\n",
       "</table>\n",
       "</div>"
      ],
      "text/plain": [
       "   學號   姓名  國文  英文  數學  地理  歷史   總分    平均  排名\n",
       "0   2  郭舜昇  99  94  83  61  97  434  86.8   1\n",
       "1   4  童建霖  98  94  88  63  78  421  84.2   2\n",
       "2   9  游治旺  57  87  71  86  94  395  79.0   3\n",
       "3  10  黃佩芬  50  99  56  99  90  394  78.8   4\n",
       "4   3  李淑芳  59  75  99  70  78  381  76.2   5"
      ]
     },
     "execution_count": 3,
     "metadata": {},
     "output_type": "execute_result"
    }
   ],
   "source": [
    "import pandas as pd\n",
    "import numpy as np\n",
    "\n",
    "frame = pd.read_excel('學生成績單.xlsx')\n",
    "frame.head()"
   ]
  },
  {
   "cell_type": "code",
   "execution_count": 4,
   "metadata": {},
   "outputs": [
    {
     "data": {
      "text/html": [
       "<div>\n",
       "<style scoped>\n",
       "    .dataframe tbody tr th:only-of-type {\n",
       "        vertical-align: middle;\n",
       "    }\n",
       "\n",
       "    .dataframe tbody tr th {\n",
       "        vertical-align: top;\n",
       "    }\n",
       "\n",
       "    .dataframe thead th {\n",
       "        text-align: right;\n",
       "    }\n",
       "</style>\n",
       "<table border=\"1\" class=\"dataframe\">\n",
       "  <thead>\n",
       "    <tr style=\"text-align: right;\">\n",
       "      <th></th>\n",
       "      <th>國文</th>\n",
       "      <th>英文</th>\n",
       "      <th>數學</th>\n",
       "      <th>地理</th>\n",
       "      <th>歷史</th>\n",
       "    </tr>\n",
       "  </thead>\n",
       "  <tbody>\n",
       "    <tr>\n",
       "      <th>0</th>\n",
       "      <td>99</td>\n",
       "      <td>94</td>\n",
       "      <td>83</td>\n",
       "      <td>61</td>\n",
       "      <td>97</td>\n",
       "    </tr>\n",
       "    <tr>\n",
       "      <th>1</th>\n",
       "      <td>98</td>\n",
       "      <td>94</td>\n",
       "      <td>88</td>\n",
       "      <td>63</td>\n",
       "      <td>78</td>\n",
       "    </tr>\n",
       "    <tr>\n",
       "      <th>2</th>\n",
       "      <td>57</td>\n",
       "      <td>87</td>\n",
       "      <td>71</td>\n",
       "      <td>86</td>\n",
       "      <td>94</td>\n",
       "    </tr>\n",
       "    <tr>\n",
       "      <th>3</th>\n",
       "      <td>50</td>\n",
       "      <td>99</td>\n",
       "      <td>56</td>\n",
       "      <td>99</td>\n",
       "      <td>90</td>\n",
       "    </tr>\n",
       "    <tr>\n",
       "      <th>4</th>\n",
       "      <td>59</td>\n",
       "      <td>75</td>\n",
       "      <td>99</td>\n",
       "      <td>70</td>\n",
       "      <td>78</td>\n",
       "    </tr>\n",
       "    <tr>\n",
       "      <th>5</th>\n",
       "      <td>85</td>\n",
       "      <td>77</td>\n",
       "      <td>63</td>\n",
       "      <td>51</td>\n",
       "      <td>88</td>\n",
       "    </tr>\n",
       "    <tr>\n",
       "      <th>6</th>\n",
       "      <td>86</td>\n",
       "      <td>69</td>\n",
       "      <td>57</td>\n",
       "      <td>78</td>\n",
       "      <td>66</td>\n",
       "    </tr>\n",
       "    <tr>\n",
       "      <th>7</th>\n",
       "      <td>72</td>\n",
       "      <td>51</td>\n",
       "      <td>54</td>\n",
       "      <td>94</td>\n",
       "      <td>79</td>\n",
       "    </tr>\n",
       "    <tr>\n",
       "      <th>8</th>\n",
       "      <td>73</td>\n",
       "      <td>84</td>\n",
       "      <td>60</td>\n",
       "      <td>62</td>\n",
       "      <td>64</td>\n",
       "    </tr>\n",
       "    <tr>\n",
       "      <th>9</th>\n",
       "      <td>72</td>\n",
       "      <td>74</td>\n",
       "      <td>50</td>\n",
       "      <td>51</td>\n",
       "      <td>60</td>\n",
       "    </tr>\n",
       "  </tbody>\n",
       "</table>\n",
       "</div>"
      ],
      "text/plain": [
       "   國文  英文  數學  地理  歷史\n",
       "0  99  94  83  61  97\n",
       "1  98  94  88  63  78\n",
       "2  57  87  71  86  94\n",
       "3  50  99  56  99  90\n",
       "4  59  75  99  70  78\n",
       "5  85  77  63  51  88\n",
       "6  86  69  57  78  66\n",
       "7  72  51  54  94  79\n",
       "8  73  84  60  62  64\n",
       "9  72  74  50  51  60"
      ]
     },
     "execution_count": 4,
     "metadata": {},
     "output_type": "execute_result"
    }
   ],
   "source": [
    "students_frame = frame[  ['國文', '英文', '數學', '地理', '歷史']  ]\n",
    "students_frame\n"
   ]
  },
  {
   "cell_type": "code",
   "execution_count": 5,
   "metadata": {},
   "outputs": [
    {
     "data": {
      "text/plain": [
       "75.1"
      ]
     },
     "metadata": {},
     "output_type": "display_data"
    },
    {
     "data": {
      "text/plain": [
       "16.842076937110683"
      ]
     },
     "metadata": {},
     "output_type": "display_data"
    }
   ],
   "source": [
    "# Series\n",
    "# 平均 mean, 標準差 std, 最大 max, 最小 min, 中間值 median\n",
    "display(students_frame['國文'].mean())\n",
    "display(students_frame['國文'].std())\n"
   ]
  },
  {
   "cell_type": "code",
   "execution_count": 6,
   "metadata": {},
   "outputs": [
    {
     "data": {
      "text/plain": [
       "國文    75.1\n",
       "英文    80.4\n",
       "數學    68.1\n",
       "地理    71.5\n",
       "歷史    79.4\n",
       "dtype: float64"
      ]
     },
     "metadata": {},
     "output_type": "display_data"
    },
    {
     "data": {
      "text/plain": [
       "0    86.8\n",
       "1    84.2\n",
       "2    79.0\n",
       "3    78.8\n",
       "4    76.2\n",
       "5    72.8\n",
       "6    71.2\n",
       "7    70.0\n",
       "8    68.6\n",
       "9    61.4\n",
       "dtype: float64"
      ]
     },
     "metadata": {},
     "output_type": "display_data"
    },
    {
     "data": {
      "text/plain": [
       "國文    16.842077\n",
       "英文    14.331008\n",
       "數學    16.562676\n",
       "地理    17.096133\n",
       "歷史    12.937456\n",
       "dtype: float64"
      ]
     },
     "metadata": {},
     "output_type": "display_data"
    },
    {
     "data": {
      "text/plain": [
       "0    15.690762\n",
       "1    14.042792\n",
       "2    14.882876\n",
       "3    23.931151\n",
       "4    14.652645\n",
       "5    15.562776\n",
       "6    11.166915\n",
       "7    17.874563\n",
       "8     9.939819\n",
       "9    11.304866\n",
       "dtype: float64"
      ]
     },
     "metadata": {},
     "output_type": "display_data"
    },
    {
     "data": {
      "text/plain": [
       "國文    751\n",
       "英文    804\n",
       "數學    681\n",
       "地理    715\n",
       "歷史    794\n",
       "dtype: int64"
      ]
     },
     "metadata": {},
     "output_type": "display_data"
    },
    {
     "data": {
      "text/plain": [
       "0    434\n",
       "1    421\n",
       "2    395\n",
       "3    394\n",
       "4    381\n",
       "5    364\n",
       "6    356\n",
       "7    350\n",
       "8    343\n",
       "9    307\n",
       "dtype: int64"
      ]
     },
     "metadata": {},
     "output_type": "display_data"
    }
   ],
   "source": [
    "# dataframe\n",
    "# 平均 mean, 標準差 std, 最大 max, 最小 min, 中間值 median\n",
    "display(students_frame.mean())\n",
    "display(students_frame.mean(axis=1))\n",
    "\n",
    "display(students_frame.std())\n",
    "display(students_frame.std(axis=1))\n",
    "\n",
    "display(students_frame.sum())\n",
    "display(students_frame.sum(axis=1))\n"
   ]
  }
 ],
 "metadata": {
  "kernelspec": {
   "display_name": "Python 3",
   "language": "python",
   "name": "python3"
  },
  "language_info": {
   "codemirror_mode": {
    "name": "ipython",
    "version": 3
   },
   "file_extension": ".py",
   "mimetype": "text/x-python",
   "name": "python",
   "nbconvert_exporter": "python",
   "pygments_lexer": "ipython3",
   "version": "3.10.11"
  },
  "orig_nbformat": 4
 },
 "nbformat": 4,
 "nbformat_minor": 2
}
