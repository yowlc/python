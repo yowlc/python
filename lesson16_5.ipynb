{
 "cells": [
  {
   "cell_type": "code",
   "execution_count": 3,
   "metadata": {},
   "outputs": [
    {
     "data": {
      "text/plain": [
       "[{'證券代號': '0050',\n",
       "  '證券名稱': '元大台灣50',\n",
       "  '成交股數': '46,790,503',\n",
       "  '成交金額': '3,463,425,684',\n",
       "  '收盤價': '72.80',\n",
       "  '漲跌價差': '-2.05',\n",
       "  '成交筆數': '23,021'},\n",
       " {'證券代號': '0051',\n",
       "  '證券名稱': '元大中型100',\n",
       "  '成交股數': '43,172',\n",
       "  '成交金額': '1,177,199',\n",
       "  '收盤價': '26.75',\n",
       "  '漲跌價差': '-0.52',\n",
       "  '成交筆數': '45'},\n",
       " {'證券代號': '0052',\n",
       "  '證券名稱': '富邦科技',\n",
       "  '成交股數': '161,425',\n",
       "  '成交金額': '9,156,750',\n",
       "  '收盤價': '55.35',\n",
       "  '漲跌價差': '-2.35',\n",
       "  '成交筆數': '67'}]"
      ]
     },
     "execution_count": 3,
     "metadata": {},
     "output_type": "execute_result"
    }
   ],
   "source": [
    "import csv\n",
    "\n",
    "filename = '個股日成交資訊'\n",
    "\n",
    "# 將 csv 檔案 讀出來\n",
    "with open(f'{filename}.csv', encoding='utf-8', newline='') as file:\n",
    "    csv_reader = csv.reader(file)\n",
    "    # next() 跳到下一行\n",
    "    next(csv_reader)\n",
    "    \n",
    "    #dictionary comprehension\n",
    "    all_list = [{'證券代號':item[0],\n",
    "                 '證券名稱':item[1],\n",
    "                 '成交股數':item[2],\n",
    "                 '成交金額':item[3],\n",
    "                 '收盤價':item[7],\n",
    "                 '漲跌價差':item[8],\n",
    "                 '成交筆數':item[9]} for item in csv_reader]\n",
    "\n",
    "all_list\n",
    "\n"
   ]
  },
  {
   "cell_type": "code",
   "execution_count": 4,
   "metadata": {},
   "outputs": [
    {
     "data": {
      "text/html": [
       "<div>\n",
       "<style scoped>\n",
       "    .dataframe tbody tr th:only-of-type {\n",
       "        vertical-align: middle;\n",
       "    }\n",
       "\n",
       "    .dataframe tbody tr th {\n",
       "        vertical-align: top;\n",
       "    }\n",
       "\n",
       "    .dataframe thead th {\n",
       "        text-align: right;\n",
       "    }\n",
       "</style>\n",
       "<table border=\"1\" class=\"dataframe\">\n",
       "  <thead>\n",
       "    <tr style=\"text-align: right;\">\n",
       "      <th></th>\n",
       "      <th>證券代號</th>\n",
       "      <th>證券名稱</th>\n",
       "      <th>成交股數</th>\n",
       "      <th>成交金額</th>\n",
       "      <th>收盤價</th>\n",
       "      <th>漲跌價差</th>\n",
       "      <th>成交筆數</th>\n",
       "    </tr>\n",
       "  </thead>\n",
       "  <tbody>\n",
       "    <tr>\n",
       "      <th>0</th>\n",
       "      <td>0050</td>\n",
       "      <td>元大台灣50</td>\n",
       "      <td>46,790,503</td>\n",
       "      <td>3,463,425,684</td>\n",
       "      <td>72.80</td>\n",
       "      <td>-2.05</td>\n",
       "      <td>23,021</td>\n",
       "    </tr>\n",
       "    <tr>\n",
       "      <th>1</th>\n",
       "      <td>0051</td>\n",
       "      <td>元大中型100</td>\n",
       "      <td>43,172</td>\n",
       "      <td>1,177,199</td>\n",
       "      <td>26.75</td>\n",
       "      <td>-0.52</td>\n",
       "      <td>45</td>\n",
       "    </tr>\n",
       "    <tr>\n",
       "      <th>2</th>\n",
       "      <td>0052</td>\n",
       "      <td>富邦科技</td>\n",
       "      <td>161,425</td>\n",
       "      <td>9,156,750</td>\n",
       "      <td>55.35</td>\n",
       "      <td>-2.35</td>\n",
       "      <td>67</td>\n",
       "    </tr>\n",
       "  </tbody>\n",
       "</table>\n",
       "</div>"
      ],
      "text/plain": [
       "   證券代號     證券名稱        成交股數           成交金額    收盤價   漲跌價差    成交筆數\n",
       "0  0050   元大台灣50  46,790,503  3,463,425,684  72.80  -2.05  23,021\n",
       "1  0051  元大中型100      43,172      1,177,199  26.75  -0.52      45\n",
       "2  0052     富邦科技     161,425      9,156,750  55.35  -2.35      67"
      ]
     },
     "execution_count": 4,
     "metadata": {},
     "output_type": "execute_result"
    }
   ],
   "source": [
    "import pandas as pd\n",
    "\n",
    "df = pd.DataFrame(all_list)\n",
    "df"
   ]
  }
 ],
 "metadata": {
  "kernelspec": {
   "display_name": "Python 3",
   "language": "python",
   "name": "python3"
  },
  "language_info": {
   "codemirror_mode": {
    "name": "ipython",
    "version": 3
   },
   "file_extension": ".py",
   "mimetype": "text/x-python",
   "name": "python",
   "nbconvert_exporter": "python",
   "pygments_lexer": "ipython3",
   "version": "3.10.12"
  },
  "orig_nbformat": 4
 },
 "nbformat": 4,
 "nbformat_minor": 2
}
