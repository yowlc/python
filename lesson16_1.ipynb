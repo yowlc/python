{
 "cells": [
  {
   "cell_type": "code",
   "execution_count": 28,
   "metadata": {},
   "outputs": [
    {
     "name": "stdout",
     "output_type": "stream",
     "text": [
      "0    4\n",
      "1    7\n",
      "2   -5\n",
      "3    3\n",
      "dtype: int64\n",
      "7\n",
      "<class 'numpy.ndarray'> RangeIndex(start=0, stop=4, step=1)\n",
      "<class 'numpy.ndarray'> [ 4  7 -5  3]\n",
      "\n",
      "S1     4\n",
      "S2     7\n",
      "S3    -5\n",
      "S4     3\n",
      "dtype: object\n",
      "-5\n",
      "<class 'numpy.ndarray'> Index(['S1', 'S2', 'S3', 'S4'], dtype='object')\n",
      "<class 'numpy.ndarray'> ['4' '7' '-5' '3']\n"
     ]
    }
   ],
   "source": [
    "# 使用 list 建立 Series\n",
    "import pandas as pd\n",
    "\n",
    "s1 = pd.Series([4, 7, -5, 3])\n",
    "print(s1)\n",
    "print(s1[1])\n",
    "print(type(s1.values), s1.index)\n",
    "print(type(s1.values), s1.values)\n",
    "\n",
    "print()\n",
    "s2 = pd.Series(['4', '7', '-5', '3'], index=['S1', 'S2', 'S3', 'S4'])\n",
    "print(s2)\n",
    "print(s2['S3'])\n",
    "print(type(s2.values), s2.index)\n",
    "print(type(s2.values), s2.values)\n"
   ]
  },
  {
   "cell_type": "code",
   "execution_count": 29,
   "metadata": {},
   "outputs": [
    {
     "name": "stdout",
     "output_type": "stream",
     "text": [
      "4\n",
      "10\n",
      "S3    -5\n",
      "S2     7\n",
      "S4     3\n",
      "S1    10\n",
      "dtype: object\n"
     ]
    }
   ],
   "source": [
    "print(s2['S1'])\n",
    "s2['S1'] = 10\n",
    "print(s2['S1'])\n",
    "\n",
    "s3 = s2[  ['S3', 'S2', 'S4', 'S1']  ]\n",
    "print(s3)"
   ]
  },
  {
   "cell_type": "code",
   "execution_count": 34,
   "metadata": {},
   "outputs": [
    {
     "name": "stdout",
     "output_type": "stream",
     "text": [
      "0     8\n",
      "1    14\n",
      "2   -10\n",
      "3     6\n",
      "dtype: int64\n",
      "S1      20\n",
      "S2      77\n",
      "S3    -5-5\n",
      "S4      33\n",
      "dtype: object\n",
      "0      54.598150\n",
      "1    1096.633158\n",
      "2       0.006738\n",
      "3      20.085537\n",
      "dtype: float64\n"
     ]
    }
   ],
   "source": [
    "# numpy 的 ndarray 可以進行 運算\n",
    "\n",
    "import numpy as np\n",
    "\n",
    "print(s1 * 2)\n",
    "print(s2 * 2)\n",
    "\n",
    "print(np.exp(s1))\n"
   ]
  },
  {
   "cell_type": "code",
   "execution_count": 40,
   "metadata": {},
   "outputs": [
    {
     "name": "stdout",
     "output_type": "stream",
     "text": [
      "False True\n",
      "False True\n"
     ]
    }
   ],
   "source": [
    "# index 的 大小寫 是 不一樣的\n",
    "\n",
    "print( 5 in s1, 3 in s1 )\n",
    "print( 's1' in s2, 'S1' in s2 )"
   ]
  },
  {
   "cell_type": "code",
   "execution_count": 63,
   "metadata": {},
   "outputs": [
    {
     "name": "stdout",
     "output_type": "stream",
     "text": [
      "國文    78\n",
      "英文    86\n",
      "數學    60\n",
      "歷史    98\n",
      "dtype: int64\n",
      "\n",
      "數學    60.0\n",
      "英文    86.0\n",
      "自然     NaN\n",
      "dtype: float64\n",
      "\n",
      "數學    False\n",
      "英文    False\n",
      "自然     True\n",
      "dtype: bool\n",
      "\n",
      "數學     True\n",
      "英文     True\n",
      "自然    False\n",
      "dtype: bool\n",
      "數學     True\n",
      "英文     True\n",
      "自然    False\n",
      "dtype: bool\n"
     ]
    }
   ],
   "source": [
    "# dictionary 建立 Series\n",
    "import pandas as pd\n",
    "\n",
    "sdata = {'國文':78, '英文': 86, '數學': 60, '歷史': 98}\n",
    "\n",
    "s3 = pd.Series(sdata)\n",
    "print(s3)\n",
    "print()\n",
    "ns3 = pd.Series(sdata, index=['數學', '英文', '自然'])\n",
    "print(ns3)\n",
    "print()\n",
    "\n",
    "print(pd.isnull(ns3))\n",
    "print()\n",
    "\n",
    "# 使用 pandas 的 函數\n",
    "print(pd.notnull(ns3))\n",
    "# 使用 ns3 實體 的 方法\n",
    "print(ns3.notnull())\n"
   ]
  },
  {
   "cell_type": "code",
   "execution_count": 76,
   "metadata": {},
   "outputs": [
    {
     "name": "stdout",
     "output_type": "stream",
     "text": [
      "台北    35000\n",
      "桃園    71000\n",
      "台中    16000\n",
      "高雄     5000\n",
      "yy     1000\n",
      "dtype: int64\n",
      "\n",
      "台北    25000\n",
      "桃園    66000\n",
      "台中    17000\n",
      "高雄    15000\n",
      "xx     1000\n",
      "dtype: int64\n",
      "\n",
      "xx         NaN\n",
      "yy         NaN\n",
      "台中     33000.0\n",
      "台北     60000.0\n",
      "桃園    137000.0\n",
      "高雄     20000.0\n",
      "dtype: float64\n"
     ]
    }
   ],
   "source": [
    "sdata = {'台北':35000, '桃園':71000, '台中':16000, '高雄':5000, 'yy':1000}\n",
    "s5 = pd.Series(sdata)\n",
    "print(s5)\n",
    "print()\n",
    "sdata = {'台北':25000, '桃園':66000, '台中':17000, '高雄':15000, 'xx':1000}\n",
    "s6 = pd.Series(sdata)\n",
    "print(s6)\n",
    "print()\n",
    "print( s5 + s6 )\n"
   ]
  },
  {
   "cell_type": "code",
   "execution_count": 92,
   "metadata": {},
   "outputs": [
    {
     "name": "stdout",
     "output_type": "stream",
     "text": [
      "[35000 71000 16000  5000]\n",
      "Index(['台北', '桃園', '台中', '高雄'], dtype='object')\n",
      "a    100\n",
      "b    200\n",
      "c    300\n",
      "d    400\n",
      "dtype: int64\n"
     ]
    }
   ],
   "source": [
    "sdata = {'台北':35000, '桃園':71000, '台中':16000, '高雄':5000}\n",
    "s7 = pd.Series(sdata)\n",
    "print( s7.values )\n",
    "print( s7.index )\n",
    "\n",
    "# index 可以被更改\n",
    "s7.index = ['a', 'b', 'c', 'd']\n",
    "\n",
    "# 可以改內容\n",
    "s7[:] = [100, 200, 300, 400]\n",
    "print(s7)\n",
    "\n",
    "\n"
   ]
  },
  {
   "cell_type": "code",
   "execution_count": 95,
   "metadata": {},
   "outputs": [
    {
     "name": "stdout",
     "output_type": "stream",
     "text": [
      "台北    35000\n",
      "桃園    71000\n",
      "台中    16000\n",
      "高雄     5000\n",
      "Name: 台灣縣市, dtype: int64\n",
      "\n",
      "縣市\n",
      "台北    35000\n",
      "桃園    71000\n",
      "台中    16000\n",
      "高雄     5000\n",
      "Name: 台灣縣市, dtype: int64\n"
     ]
    }
   ],
   "source": [
    "sdata = {'台北':35000, '桃園':71000, '台中':16000, '高雄':5000}\n",
    "s8 = pd.Series(sdata)\n",
    "s8.name = '台灣縣市'\n",
    "print(s8)\n",
    "print()\n",
    "\n",
    "s8.index.name = '縣市'\n",
    "print(s8)\n"
   ]
  }
 ],
 "metadata": {
  "kernelspec": {
   "display_name": "Python 3",
   "language": "python",
   "name": "python3"
  },
  "language_info": {
   "codemirror_mode": {
    "name": "ipython",
    "version": 3
   },
   "file_extension": ".py",
   "mimetype": "text/x-python",
   "name": "python",
   "nbconvert_exporter": "python",
   "pygments_lexer": "ipython3",
   "version": "3.10.12"
  },
  "orig_nbformat": 4
 },
 "nbformat": 4,
 "nbformat_minor": 2
}
