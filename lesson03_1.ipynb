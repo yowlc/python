{
 "cells": [
  {
   "cell_type": "code",
   "execution_count": 7,
   "metadata": {},
   "outputs": [
    {
     "name": "stdout",
     "output_type": "stream",
     "text": [
      "梯形面積是: 5.54  平方公分\n",
      "梯形面積是:5.54平方公分\n"
     ]
    }
   ],
   "source": [
    "#讓使用者輸入梯形的上底、下底及高，程式會計算梯形的面積(上底加下底乘以高除以2)\n",
    "# round 四捨五入\n",
    "\n",
    "var1 = float(input(\"輸入梯形的上底(公分): \"))\n",
    "var2 = float(input(\"輸入梯形的下底(公分): \"))\n",
    "var3 = float(input(\"輸入梯形的高(公分): \"))\n",
    "result = (var1 + var2) * var3 / 2\n",
    "print(\"梯形面積是:\",round(result, ndigits=2),\" 平方公分\")\n",
    "\n",
    "# 使用 字串插補, result 後面有兩位小數點 浮點數\n",
    "print(f\"梯形面積是:{result:.2f}平方公分\")\n"
   ]
  },
  {
   "cell_type": "code",
   "execution_count": 1,
   "metadata": {},
   "outputs": [
    {
     "name": "stdout",
     "output_type": "stream",
     "text": [
      "我有3個apple,5個orange,共有8水果\n"
     ]
    }
   ],
   "source": [
    "apple = 3\n",
    "orange = 5\n",
    "\n",
    "#print(\"我有\",apple,\"個apple\")\n",
    "print(f\"我有{apple}個apple,{orange}個orange,共有{apple+orange}水果\")\n"
   ]
  }
 ],
 "metadata": {
  "kernelspec": {
   "display_name": "Python 3",
   "language": "python",
   "name": "python3"
  },
  "language_info": {
   "codemirror_mode": {
    "name": "ipython",
    "version": 3
   },
   "file_extension": ".py",
   "mimetype": "text/x-python",
   "name": "python",
   "nbconvert_exporter": "python",
   "pygments_lexer": "ipython3",
   "version": "3.10.8"
  },
  "orig_nbformat": 4
 },
 "nbformat": 4,
 "nbformat_minor": 2
}
