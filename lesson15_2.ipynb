{
 "cells": [
  {
   "cell_type": "code",
   "execution_count": 11,
   "metadata": {},
   "outputs": [
    {
     "name": "stdout",
     "output_type": "stream",
     "text": [
      "[1, 3, 5, 7, 9, 1, 3, 5, 7, 9]\n",
      "[1, 3, 5, 7, 9, 2, 4, 6, 8, 10]\n",
      "[3, 7, 11, 15, 19]\n",
      "[3, 7, 11, 15, 19]\n"
     ]
    }
   ],
   "source": [
    "# 建立 list\n",
    "a = [1, 3, 5, 7, 9]\n",
    "print(a * 2)\n",
    "\n",
    "b = [2, 4, 6, 8, 10]\n",
    "print(a + b)\n",
    "\n",
    "result = []\n",
    "for i in range(len(a)):\n",
    "    result.append(a[i] + b[i])\n",
    "print(result)\n",
    "\n",
    "print( [a[x] + b[x] for x in range(len(a))] )"
   ]
  },
  {
   "cell_type": "code",
   "execution_count": 19,
   "metadata": {},
   "outputs": [
    {
     "name": "stdout",
     "output_type": "stream",
     "text": [
      "[1 3 5 7 9]\n",
      "[ 2  6 10 14 18]\n",
      "[ 3  7 11 15 19]\n"
     ]
    }
   ],
   "source": [
    "import numpy as np\n",
    "\n",
    "# 透過 list 建立 ndarray\n",
    "a = [1, 3, 5, 7, 9]\n",
    "b = [2, 4, 6, 8, 10]\n",
    "\n",
    "a_array = np.array(a)\n",
    "b_array = np.array(b)\n",
    "\n",
    "print(a_array)\n",
    "print(a_array * 2)\n",
    "print(a_array + b_array)\n"
   ]
  },
  {
   "cell_type": "code",
   "execution_count": 30,
   "metadata": {},
   "outputs": [
    {
     "name": "stdout",
     "output_type": "stream",
     "text": [
      "[63, 65, 85, 55, 53]\n",
      "[[68 85 87 71 70]\n",
      " [57 86 97 56 75]\n",
      " [94 98 62 71 91]]\n"
     ]
    },
    {
     "data": {
      "text/plain": [
       "array([125, 171, 184, 127, 145])"
      ]
     },
     "execution_count": 30,
     "metadata": {},
     "output_type": "execute_result"
    }
   ],
   "source": [
    "import random\n",
    "\n",
    "print( [random.randint(50, 100) for x in range(5)] )\n",
    "\n",
    "# 使用 numpy 建立 亂數\n",
    "import numpy as np\n",
    "\n",
    "np2_rand = np.random.randint(50, high=100, size=[3, 5])\n",
    "print(np2_rand)\n",
    "\n",
    "np2_rand[0] + np2_rand[1]\n"
   ]
  }
 ],
 "metadata": {
  "kernelspec": {
   "display_name": "Python 3",
   "language": "python",
   "name": "python3"
  },
  "language_info": {
   "codemirror_mode": {
    "name": "ipython",
    "version": 3
   },
   "file_extension": ".py",
   "mimetype": "text/x-python",
   "name": "python",
   "nbconvert_exporter": "python",
   "pygments_lexer": "ipython3",
   "version": "3.10.12"
  },
  "orig_nbformat": 4
 },
 "nbformat": 4,
 "nbformat_minor": 2
}
