{
 "cells": [
  {
   "cell_type": "code",
   "execution_count": 34,
   "metadata": {},
   "outputs": [
    {
     "name": "stdout",
     "output_type": "stream",
     "text": [
      "國文    67\n",
      "英文    99\n",
      "數學    78\n",
      "地理    83\n",
      "歷史    70\n",
      "dtype: int64\n",
      "國文     70\n",
      "英文    102\n",
      "數學     81\n",
      "地理     86\n",
      "歷史     73\n",
      "dtype: int64\n",
      "國文: 67\n",
      "67 99 78 83 70 \n",
      "397\n",
      "79.4\n",
      "11.324310133513652\n",
      "78.0\n"
     ]
    }
   ],
   "source": [
    "import numpy as np\n",
    "student = np.array([67, 99, 78, 83, 70])\n",
    "\n",
    "# pip install pandas\n",
    "import pandas as pd\n",
    "\n",
    "s1 = pd.Series([67, 99, 78, 83, 70], index=['國文', '英文', '數學', '地理', '歷史'])\n",
    "print(s1)\n",
    "print(s1 + 3)\n",
    "print('國文: ' + str(s1['國文']))\n",
    "\n",
    "for i in s1:\n",
    "    print(i, end=' ')\n",
    "print()\n",
    "\n",
    "# 加總\n",
    "print(np.sum(s1))\n",
    "\n",
    "# 平均\n",
    "print(np.mean(s1))\n",
    "\n",
    "# 標準差\n",
    "print(np.std(s1))\n",
    "\n",
    "# 中間值\n",
    "print(np.median(s1))\n"
   ]
  },
  {
   "cell_type": "code",
   "execution_count": 47,
   "metadata": {},
   "outputs": [
    {
     "name": "stdout",
     "output_type": "stream",
     "text": [
      "<class 'pandas.core.frame.DataFrame'>\n",
      "    stu1  stu2  stu3\n",
      "國文    11    22    33\n",
      "英文    22    33    44\n",
      "數學    33    44    55\n",
      "地理    44    55    66\n",
      "歷史    55    66    77\n"
     ]
    }
   ],
   "source": [
    "# 很多個 Serias 放在一起, 就是 DataFrame\n",
    "import pandas as pd\n",
    "\n",
    "data1 = pd.DataFrame({\n",
    "\n",
    "    'stu1': [11, 22, 33, 44, 55],\n",
    "    'stu2': [22, 33, 44, 55, 66],\n",
    "    'stu3': [33, 44, 55, 66, 77],\n",
    "}, index=['國文', '英文', '數學', '地理', '歷史'])\n",
    "\n",
    "print(type(data1))\n",
    "print(data1)\n"
   ]
  },
  {
   "cell_type": "code",
   "execution_count": 56,
   "metadata": {},
   "outputs": [
    {
     "name": "stdout",
     "output_type": "stream",
     "text": [
      "    國文  英文  數學  地理  歷史\n",
      "1   67  86  99  62  80\n",
      "2   98  81  85  83  95\n",
      "3   98  75  90  90  60\n",
      "4   66  61  67  98  82\n",
      "5   92  83  77  93  62\n",
      "6   91  74  80  62  62\n",
      "7   70  73  64  74  64\n",
      "8   85  89  66  60  67\n",
      "9   84  73  98  60  87\n",
      "10  60  86  66  91  89\n"
     ]
    }
   ],
   "source": [
    "import numpy as np\n",
    "import pandas as pd\n",
    "\n",
    "data = np.random.randint(60, high=100, size=(10, 5))\n",
    "pdfram = pd.DataFrame(data, \n",
    "             index = range(1, 11), \n",
    "             columns = ['國文', '英文', '數學', '地理', '歷史']\n",
    "             )\n",
    "\n",
    "print(pdfram)"
   ]
  }
 ],
 "metadata": {
  "kernelspec": {
   "display_name": "Python 3",
   "language": "python",
   "name": "python3"
  },
  "language_info": {
   "codemirror_mode": {
    "name": "ipython",
    "version": 3
   },
   "file_extension": ".py",
   "mimetype": "text/x-python",
   "name": "python",
   "nbconvert_exporter": "python",
   "pygments_lexer": "ipython3",
   "version": "3.10.12"
  },
  "orig_nbformat": 4
 },
 "nbformat": 4,
 "nbformat_minor": 2
}
