{
 "cells": [
  {
   "cell_type": "code",
   "execution_count": 1,
   "metadata": {},
   "outputs": [
    {
     "name": "stdout",
     "output_type": "stream",
     "text": [
      "   學號   姓名  國文  英文  數學  地理  歷史   總分    平均\n",
      "0   1  盧文啟  85  77  63  51  88  364  72.8\n",
      "1   2  郭舜昇  99  94  83  61  97  434  86.8\n",
      "2   3  李淑芳  59  75  99  70  78  381  76.2\n",
      "3   4  童建霖  98  94  88  63  78  421  84.2\n",
      "4   5  陳姵彬  72  74  50  51  60  307  61.4\n",
      "5   6  游倫城  86  69  57  78  66  356  71.2\n",
      "6   7  馮芳如  72  51  54  94  79  350  70.0\n",
      "7   8  陳冠霞  73  84  60  62  64  343  68.6\n",
      "8   9  游治旺  57  87  71  86  94  395  79.0\n",
      "9  10  黃佩芬  50  99  56  99  90  394  78.8\n"
     ]
    }
   ],
   "source": [
    "import pandas as pd\n",
    "\n",
    "csvd = pd.read_csv('學生成績.csv')\n",
    "print(csvd)\n",
    "\n"
   ]
  }
 ],
 "metadata": {
  "kernelspec": {
   "display_name": "Python 3",
   "language": "python",
   "name": "python3"
  },
  "language_info": {
   "codemirror_mode": {
    "name": "ipython",
    "version": 3
   },
   "file_extension": ".py",
   "mimetype": "text/x-python",
   "name": "python",
   "nbconvert_exporter": "python",
   "pygments_lexer": "ipython3",
   "version": "3.10.12"
  },
  "orig_nbformat": 4
 },
 "nbformat": 4,
 "nbformat_minor": 2
}
