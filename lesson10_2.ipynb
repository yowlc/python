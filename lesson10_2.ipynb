{
 "cells": [
  {
   "cell_type": "code",
   "execution_count": 12,
   "metadata": {},
   "outputs": [
    {
     "name": "stdout",
     "output_type": "stream",
     "text": [
      "[11, 22, 33, 44, 55]\n",
      "[66, 77, 88, 99, 85]\n",
      "[12, 23, 34, 45, 56]\n",
      "\n",
      "[66, 77, 88, 99, 85]\n",
      "85\n"
     ]
    }
   ],
   "source": [
    "score1 = [11, 22, 33, 44, 55]\n",
    "score2 = [66, 77, 88, 99, 85]\n",
    "score3 = [12, 23, 34, 45, 56]\n",
    "\n",
    "# 二維 list\n",
    "scores1 = [score1, score2, score3]\n",
    "for x in scores1:\n",
    "    print(x)\n",
    "\n",
    "print()\n",
    "\n",
    "scores2 = []\n",
    "scores2.append(score1)\n",
    "scores2.append(score2)\n",
    "scores2.append(score3)\n",
    "\n",
    "print(scores2[1])\n",
    "print(scores2[1][4])\n"
   ]
  },
  {
   "cell_type": "code",
   "execution_count": 4,
   "metadata": {},
   "outputs": [
    {
     "name": "stdout",
     "output_type": "stream",
     "text": [
      "[93, 74, 58, 78, 99]\n",
      "[94, 67, 50, 100, 80]\n",
      "[53, 84, 68, 68, 100]\n",
      "[62, 69, 55, 93, 67]\n",
      "[93, 55, 87, 89, 90]\n",
      "[51, 89, 62, 63, 94]\n",
      "[55, 73, 80, 78, 100]\n",
      "[61, 96, 62, 54, 78]\n",
      "[72, 92, 78, 93, 55]\n",
      "[90, 92, 94, 76, 54]\n",
      "\n",
      " 93 分\n"
     ]
    }
   ],
   "source": [
    "import random\n",
    "\n",
    "# 取得 一個學生 的 成績 list\n",
    "# numscore -> 一個學生要有幾個成績\n",
    "def get_scores(numscore : int) -> list:\n",
    "    scores = []\n",
    "    for i in range(numscore):\n",
    "        scores.append(random.randint(50, 100))\n",
    "    return scores\n",
    "\n",
    "all_stu_scores = []\n",
    "for x in range(10):\n",
    "    # 一個學生有 5 個 成績\n",
    "    tmp_score = get_scores(5)\n",
    "    all_stu_scores.append(tmp_score)\n",
    "\n",
    "for y in all_stu_scores:\n",
    "    print(y)\n",
    "\n",
    "print('\\n', all_stu_scores[3][3], '分')"
   ]
  }
 ],
 "metadata": {
  "kernelspec": {
   "display_name": "Python 3",
   "language": "python",
   "name": "python3"
  },
  "language_info": {
   "codemirror_mode": {
    "name": "ipython",
    "version": 3
   },
   "file_extension": ".py",
   "mimetype": "text/x-python",
   "name": "python",
   "nbconvert_exporter": "python",
   "pygments_lexer": "ipython3",
   "version": "3.10.12"
  },
  "orig_nbformat": 4
 },
 "nbformat": 4,
 "nbformat_minor": 2
}
