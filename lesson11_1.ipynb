{
 "cells": [
  {
   "cell_type": "code",
   "execution_count": 29,
   "metadata": {},
   "outputs": [
    {
     "data": {
      "text/plain": [
       "[['龐皓芳', 63, 88, 85, 96, 52],\n",
       " ['黃名明', 77, 55, 52, 71, 52],\n",
       " ['錢欣潔', 50, 80, 96, 65, 74]]"
      ]
     },
     "metadata": {},
     "output_type": "display_data"
    }
   ],
   "source": [
    "import random\n",
    "\n",
    "# 取得 一個學生 的 成績 list\n",
    "# numscore -> 一個學生要有幾個成績\n",
    "def get_scores(numscore : int) -> list:\n",
    "    scores = []\n",
    "    for i in range(numscore):\n",
    "        scores.append(random.randint(50, 100))\n",
    "    return scores\n",
    "\n",
    "def get_names(numstud : int) -> list:\n",
    "    # 取得 姓名\n",
    "    # 使用 with as, 會自動 close() 關檔\n",
    "    with open('names.txt', encoding=\"utf-8\", newline='') as file1:\n",
    "        name_str = file1.read()\n",
    "    \n",
    "    # 字串 轉 list\n",
    "    name_list = name_str.split(sep='\\n')\n",
    "    # 隨機取出 特定數量 的內容\n",
    "    return random.choices(name_list, k=numstud)\n",
    "\n",
    "numstud = int(input('請輸入學生數:'))\n",
    "new_name_list = get_names(numstud)\n",
    "\n",
    "all_student = []\n",
    "for x in range(numstud):\n",
    "    # 一個學生有 5 個 成績\n",
    "    tmp_score = get_scores(5)\n",
    "    # 使用 [str] 轉換成 list, ['aaa'] -> list\n",
    "    all_student.append([new_name_list[x]] + tmp_score)\n",
    "\n",
    "display(all_student)\n"
   ]
  }
 ],
 "metadata": {
  "kernelspec": {
   "display_name": "Python 3",
   "language": "python",
   "name": "python3"
  },
  "language_info": {
   "codemirror_mode": {
    "name": "ipython",
    "version": 3
   },
   "file_extension": ".py",
   "mimetype": "text/x-python",
   "name": "python",
   "nbconvert_exporter": "python",
   "pygments_lexer": "ipython3",
   "version": "3.10.12"
  },
  "orig_nbformat": 4
 },
 "nbformat": 4,
 "nbformat_minor": 2
}
