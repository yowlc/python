{
 "cells": [
  {
   "cell_type": "code",
   "execution_count": 2,
   "metadata": {},
   "outputs": [
    {
     "data": {
      "text/plain": [
       "['星期一', '星期二', '星期三', '星期四', '星期五', '星期六', '星期日']"
      ]
     },
     "metadata": {},
     "output_type": "display_data"
    },
    {
     "data": {
      "text/plain": [
       "('星期一', '星期二', '星期三', '星期四', '星期五', '星期六', '星期日')"
      ]
     },
     "metadata": {},
     "output_type": "display_data"
    }
   ],
   "source": [
    "#list, 串列(sequence)\n",
    "weekdays = ['星期一', '星期二', '星期三', '星期四', '星期五', '星期六', '星期日']\n",
    "display(weekdays)\n",
    "\n",
    "#tuple\n",
    "weekdays1 = ('星期一', '星期二', '星期三', '星期四', '星期五', '星期六', '星期日')\n",
    "display(weekdays1)\n",
    "\n"
   ]
  },
  {
   "cell_type": "code",
   "execution_count": 14,
   "metadata": {},
   "outputs": [
    {
     "name": "stdout",
     "output_type": "stream",
     "text": [
      "[10, 20]\n"
     ]
    }
   ],
   "source": [
    "t1 = (10, 20)\n",
    "t2 = []\n",
    "for x in t1:\n",
    "    t2.append(x)\n",
    "print(t2)"
   ]
  },
  {
   "cell_type": "code",
   "execution_count": 8,
   "metadata": {},
   "outputs": [
    {
     "data": {
      "text/plain": [
       "10"
      ]
     },
     "metadata": {},
     "output_type": "display_data"
    },
    {
     "data": {
      "text/plain": [
       "20"
      ]
     },
     "metadata": {},
     "output_type": "display_data"
    }
   ],
   "source": [
    "#tuple\n",
    "t1 = (10, 20)\n",
    "\n",
    "#read\n",
    "display(t1[0])\n",
    "display(t1[1])\n",
    "\n",
    "#不可寫入\n",
    "# t1[0] = 30 -> 錯誤的\n"
   ]
  },
  {
   "cell_type": "code",
   "execution_count": 15,
   "metadata": {},
   "outputs": [
    {
     "data": {
      "text/plain": [
       "10"
      ]
     },
     "metadata": {},
     "output_type": "display_data"
    },
    {
     "data": {
      "text/plain": [
       "20"
      ]
     },
     "execution_count": 15,
     "metadata": {},
     "output_type": "execute_result"
    }
   ],
   "source": [
    "#使用拆解法,取出tuple內的資料\n",
    "\n",
    "(value1, value2) = t1\n",
    "display(value1)\n",
    "value2"
   ]
  },
  {
   "cell_type": "code",
   "execution_count": 10,
   "metadata": {},
   "outputs": [
    {
     "data": {
      "text/plain": [
       "10"
      ]
     },
     "metadata": {},
     "output_type": "display_data"
    },
    {
     "data": {
      "text/plain": [
       "20"
      ]
     },
     "execution_count": 10,
     "metadata": {},
     "output_type": "execute_result"
    }
   ],
   "source": [
    "#使用拆解法,取出tuple內的資料\n",
    "\n",
    "value1, value2 = t1\n",
    "display(value1)\n",
    "value2"
   ]
  },
  {
   "cell_type": "code",
   "execution_count": 11,
   "metadata": {},
   "outputs": [
    {
     "data": {
      "text/plain": [
       "(2, 4, 6, 8, 10)"
      ]
     },
     "execution_count": 11,
     "metadata": {},
     "output_type": "execute_result"
    }
   ],
   "source": [
    "#建立tuple,省略()\n",
    "2, 4, 6, 8, 10"
   ]
  },
  {
   "cell_type": "code",
   "execution_count": 21,
   "metadata": {},
   "outputs": [
    {
     "data": {
      "text/plain": [
       "('台灣', '日本')"
      ]
     },
     "execution_count": 21,
     "metadata": {},
     "output_type": "execute_result"
    }
   ],
   "source": [
    "# Dictionary 字典, 使用 key 來找到 value\n",
    "# {key:value, key:value} , 也可以使用 dict() 來建立\n",
    "\n",
    "codes = {\"tw\": \"台灣\", \"jp\": \"日本\"}\n",
    "codes[\"tw\"], codes[\"jp\"]    # 建立成 tuple"
   ]
  },
  {
   "cell_type": "code",
   "execution_count": 22,
   "metadata": {},
   "outputs": [
    {
     "name": "stdout",
     "output_type": "stream",
     "text": [
      "{'tw': '台灣', 'jp': '日本', 'hk': '香港'}\n"
     ]
    }
   ],
   "source": [
    "# 新增\n",
    "codes[\"hk\"] = \"香港\"\n",
    "print(codes)"
   ]
  },
  {
   "cell_type": "code",
   "execution_count": 26,
   "metadata": {},
   "outputs": [
    {
     "name": "stdout",
     "output_type": "stream",
     "text": [
      "索引:tw, 內容:台灣\n",
      "索引:jp, 內容:日本\n",
      "索引:hk, 內容:香港\n"
     ]
    }
   ],
   "source": [
    "for key in codes:\n",
    "    print(f'索引:{key}, 內容:{codes[key]}')"
   ]
  },
  {
   "cell_type": "code",
   "execution_count": 40,
   "metadata": {},
   "outputs": [
    {
     "name": "stdout",
     "output_type": "stream",
     "text": [
      "dict_keys(['tw', 'jp', 'hk'])\n",
      "dict_values(['台灣', '日本', '香港'])\n",
      "台灣\n",
      "日本\n",
      "香港\n",
      "['tw', 'jp', 'hk']\n",
      "['台灣', '日本', '香港']\n",
      "dict_items([('tw', '台灣'), ('jp', '日本'), ('hk', '香港')])\n",
      "tw 台灣\n",
      "jp 日本\n",
      "hk 香港\n"
     ]
    }
   ],
   "source": [
    "print(codes.keys())\n",
    "print(codes.values())\n",
    "for key in codes.keys():\n",
    "    print(codes[key])\n",
    "\n",
    "# 轉成 list\n",
    "print(list(codes.keys()))\n",
    "print(list(codes.values()))\n",
    "\n",
    "print(codes.items())\n",
    "for key, value in codes.items():\n",
    "    print(key, value)\n"
   ]
  }
 ],
 "metadata": {
  "kernelspec": {
   "display_name": "Python 3",
   "language": "python",
   "name": "python3"
  },
  "language_info": {
   "codemirror_mode": {
    "name": "ipython",
    "version": 3
   },
   "file_extension": ".py",
   "mimetype": "text/x-python",
   "name": "python",
   "nbconvert_exporter": "python",
   "pygments_lexer": "ipython3",
   "version": "3.10.12"
  },
  "orig_nbformat": 4
 },
 "nbformat": 4,
 "nbformat_minor": 2
}
