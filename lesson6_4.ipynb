{
 "cells": [
  {
   "cell_type": "code",
   "execution_count": 2,
   "metadata": {},
   "outputs": [
    {
     "name": "stdout",
     "output_type": "stream",
     "text": [
      "------猜數字------\n",
      "\n",
      "輸入的數是50, 猜錯了, 已經猜了1次, 再小一點\n",
      "輸入的數是30, 猜錯了, 已經猜了2次, 再小一點\n",
      "猜對了, 數字是:20, 總共猜了3次\n",
      "遊戲結束\n"
     ]
    }
   ],
   "source": [
    "import random\n",
    "min = 1\n",
    "max = 100\n",
    "target = random.randint(min, max)\n",
    "\n",
    "count = 0\n",
    "print('------猜數字------\\n')\n",
    "\n",
    "while True:\n",
    "    keyin = int(input(f'猜數字的範圍{min}~{max}:'))\n",
    "    count += 1\n",
    "    if (keyin < min) or (keyin > max):\n",
    "        print('輸入超出範圍')\n",
    "    else:\n",
    "        if (keyin == target):\n",
    "            print(f'猜對了, 數字是:{target}, 總共猜了{count}次')\n",
    "            break\n",
    "        else:\n",
    "            print(f'輸入的數是{keyin}, 猜錯了, 已經猜了{count}次, ', end='')\n",
    "            if keyin > target:\n",
    "                max = keyin - 1\n",
    "                print('再小一點')\n",
    "            else:\n",
    "                min = keyin + 1\n",
    "                print('再大一點')\n",
    "\n",
    "print('遊戲結束')"
   ]
  },
  {
   "cell_type": "code",
   "execution_count": 12,
   "metadata": {},
   "outputs": [
    {
     "name": "stdout",
     "output_type": "stream",
     "text": [
      "1\n",
      "------猜數字------\n",
      "\n",
      "輸入的數是50, 猜錯了, 已經猜了1次, 再小一點\n",
      "猜對了, 數字是:1, 總共猜了2次\n",
      "37\n",
      "------猜數字------\n",
      "\n",
      "輸入的數是50, 猜錯了, 已經猜了1次, 再小一點\n",
      "猜對了, 數字是:37, 總共猜了2次\n",
      "遊戲結束..\n"
     ]
    }
   ],
   "source": [
    "import random\n",
    "while True:\n",
    "    min = 1\n",
    "    max = 100\n",
    "    target = random.randint(min, max)\n",
    "    print(target)\n",
    "    count = 0\n",
    "    print('------猜數字------\\n')\n",
    "\n",
    "    while True:\n",
    "        keyin = int(input(f'猜數字的範圍{min}~{max}:'))\n",
    "        count += 1\n",
    "        if (keyin < min) or (keyin > max):\n",
    "            print('輸入超出範圍')\n",
    "        else:\n",
    "            if (keyin == target):\n",
    "                print(f'猜對了, 數字是:{target}, 總共猜了{count}次')\n",
    "                break\n",
    "            else:\n",
    "                print(f'輸入的數是{keyin}, 猜錯了, 已經猜了{count}次, ', end='')\n",
    "                if keyin > target:\n",
    "                    max = keyin - 1\n",
    "                    print('再小一點')\n",
    "                else:\n",
    "                    min = keyin + 1\n",
    "                    print('再大一點')\n",
    "\n",
    "    play_again = input('要繼續嗎?(y or n)')\n",
    "    if play_again == 'n':\n",
    "        break\n",
    "    else:\n",
    "        continue\n",
    "\n",
    "print('遊戲結束..')"
   ]
  },
  {
   "cell_type": "code",
   "execution_count": 14,
   "metadata": {},
   "outputs": [
    {
     "name": "stdout",
     "output_type": "stream",
     "text": [
      "83\n",
      "------猜數字------\n",
      "\n",
      "輸入的數是50, 猜錯了, 已經猜了1次, 再大一點\n",
      "猜對了, 數字是:83, 總共猜了2次\n",
      "遊戲結束..\n"
     ]
    }
   ],
   "source": [
    "import random\n",
    "\n",
    "# 自訂函數\n",
    "def play_game():\n",
    "    min = 1\n",
    "    max = 100\n",
    "    target = random.randint(min, max)\n",
    "    print(target)\n",
    "    count = 0\n",
    "    print('------猜數字------\\n')\n",
    "\n",
    "    while True:\n",
    "        keyin = int(input(f'猜數字的範圍{min}~{max}:'))\n",
    "        count += 1\n",
    "        if (keyin < min) or (keyin > max):\n",
    "            print('輸入超出範圍')\n",
    "        else:\n",
    "            if (keyin == target):\n",
    "                print(f'猜對了, 數字是:{target}, 總共猜了{count}次')\n",
    "                break\n",
    "            else:\n",
    "                print(f'輸入的數是{keyin}, 猜錯了, 已經猜了{count}次, ', end='')\n",
    "                if keyin > target:\n",
    "                    max = keyin - 1\n",
    "                    print('再小一點')\n",
    "                else:\n",
    "                    min = keyin + 1\n",
    "                    print('再大一點')\n",
    "\n",
    "\n",
    "while True:\n",
    "    play_game() # 呼叫 自己的函數   \n",
    "\n",
    "    play_again = input('要繼續嗎?(y or n)')\n",
    "    if play_again == 'n':\n",
    "        break\n",
    "    else:\n",
    "        continue\n",
    "\n",
    "print('遊戲結束..')"
   ]
  }
 ],
 "metadata": {
  "kernelspec": {
   "display_name": "Python 3",
   "language": "python",
   "name": "python3"
  },
  "language_info": {
   "codemirror_mode": {
    "name": "ipython",
    "version": 3
   },
   "file_extension": ".py",
   "mimetype": "text/x-python",
   "name": "python",
   "nbconvert_exporter": "python",
   "pygments_lexer": "ipython3",
   "version": "3.10.12"
  },
  "orig_nbformat": 4
 },
 "nbformat": 4,
 "nbformat_minor": 2
}
