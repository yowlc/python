{
 "cells": [
  {
   "cell_type": "code",
   "execution_count": 3,
   "metadata": {},
   "outputs": [
    {
     "name": "stdout",
     "output_type": "stream",
     "text": [
      "NO\n"
     ]
    }
   ],
   "source": [
    "def test1(var1):\n",
    "    if var1 == '1':\n",
    "        return 'OK'\n",
    "    else:\n",
    "        return 'NO'\n",
    "\n",
    "print(test1('2'))"
   ]
  },
  {
   "cell_type": "code",
   "execution_count": 5,
   "metadata": {},
   "outputs": [
    {
     "name": "stdout",
     "output_type": "stream",
     "text": [
      "quack\n"
     ]
    }
   ],
   "source": [
    "def make_a_sound():\n",
    "    print('quack')\n",
    "\n",
    "make_a_sound()"
   ]
  },
  {
   "cell_type": "code",
   "execution_count": 17,
   "metadata": {},
   "outputs": [
    {
     "name": "stdout",
     "output_type": "stream",
     "text": [
      "5 + 3 = 8\n",
      "5 * 3 = 15\n",
      "3 + 5 = 8\n",
      "3 * 5 = 15\n",
      "3 + 5 = 8\n",
      "5 * 3 = 15\n"
     ]
    }
   ],
   "source": [
    "def add_num(var1, var2):\n",
    "    print(f'{var1} + {var2} = {var1 + var2}')\n",
    "\n",
    "def multiple(var1, var2):\n",
    "    print(f'{var1} * {var2} = {var1 * var2}')\n",
    "\n",
    "# 引數值呼叫\n",
    "add_num(5, 3)\n",
    "multiple(5, 3)\n",
    "\n",
    "#引數名稱的呼叫\n",
    "add_num(var1=3, var2=5)\n",
    "multiple(var2=5, var1=3)\n",
    "\n",
    "#混和呼叫\n",
    "add_num(3, var2=5)\n",
    "multiple(5, var2=3)\n"
   ]
  },
  {
   "cell_type": "code",
   "execution_count": 23,
   "metadata": {},
   "outputs": [
    {
     "name": "stdout",
     "output_type": "stream",
     "text": [
      "國文:50, 英文:60, 數學:70\n",
      "國文:80, 英文:60, 數學:70\n",
      "國文:100, 英文:99, 數學:60\n"
     ]
    }
   ],
   "source": [
    "# 參數有 default, 一定要放在最後面\n",
    "\n",
    "def scores1(chinese, engish, math):\n",
    "    print(f'國文:{chinese}, 英文:{engish}, 數學:{math}')\n",
    "\n",
    "def scores2(chinese, engish=60, math=60):\n",
    "    print(f'國文:{chinese}, 英文:{engish}, 數學:{math}')\n",
    "\n",
    "\n",
    "scores1(50, 60, 70)\n",
    "scores2(80, math=70)\n",
    "scores2(100, 99)"
   ]
  },
  {
   "cell_type": "code",
   "execution_count": 40,
   "metadata": {},
   "outputs": [
    {
     "name": "stdout",
     "output_type": "stream",
     "text": [
      "10到100的質數是:\n",
      "11 13 17 19 23 29 31 37 41 43 47 53 59 61 67 71 73 79 83 89 97 "
     ]
    }
   ],
   "source": [
    "def print_prime(first, end):\n",
    "    if first < 2:\n",
    "        first = 2\n",
    "\n",
    "    print(f\"{first}到{end}的質數是:\")\n",
    "    for num in range(first,end+1):\n",
    "        is_prime = True\n",
    "        for i in range(2, num):\n",
    "            if num % i == 0:\n",
    "                is_prime = False\n",
    "\n",
    "        if is_prime:\n",
    "            print(f\"{num}\",end=\" \")\n",
    "\n",
    "var1 = int(input(\"請輸入first值:\"))\n",
    "var2 = int(input(\"請輸入end值:\"))\n",
    "print_prime(var1, var2)"
   ]
  },
  {
   "cell_type": "code",
   "execution_count": 47,
   "metadata": {},
   "outputs": [
    {
     "name": "stdout",
     "output_type": "stream",
     "text": [
      "350\n"
     ]
    }
   ],
   "source": [
    "# 有傳出值得函數\n",
    "\n",
    "def add_2num(first, second):\n",
    "    return first + second\n",
    "\n",
    "tot = add_2num(100, 250)\n",
    "print(tot)"
   ]
  },
  {
   "cell_type": "code",
   "execution_count": 51,
   "metadata": {},
   "outputs": [
    {
     "name": "stdout",
     "output_type": "stream",
     "text": [
      "300\n",
      "47.8\n"
     ]
    }
   ],
   "source": [
    "#python3.7 以後才有支援\n",
    "#參數 和 傳出值, 型別的提醒\n",
    "#這只是提醒, 可有可無\n",
    "def add1(first:int, second:int) -> int:\n",
    "    return first + second\n",
    "\n",
    "def add2(first:int|float, second:int|float) -> int|float:\n",
    "    return first + second\n",
    "\n",
    "\n",
    "print(add1(100, 200))\n",
    "print(add2(35, 12.8))"
   ]
  },
  {
   "cell_type": "code",
   "execution_count": 54,
   "metadata": {},
   "outputs": [
    {
     "name": "stdout",
     "output_type": "stream",
     "text": [
      "1 2 3 a b c 32.1 92.8\n",
      "1-2-3-a-b-c-32.1-92.8\n",
      "1-2-3-a-b-c-32.1-92.8。\n"
     ]
    }
   ],
   "source": [
    "print(1,2,3,'a','b','c',32.1,92.8)\n",
    "print(1,2,3,'a','b','c',32.1,92.8,sep='-')\n",
    "print(1,2,3,'a','b','c',32.1,92.8,end=\"。\\n\",sep='-')"
   ]
  }
 ],
 "metadata": {
  "kernelspec": {
   "display_name": "Python 3",
   "language": "python",
   "name": "python3"
  },
  "language_info": {
   "codemirror_mode": {
    "name": "ipython",
    "version": 3
   },
   "file_extension": ".py",
   "mimetype": "text/x-python",
   "name": "python",
   "nbconvert_exporter": "python",
   "pygments_lexer": "ipython3",
   "version": "3.10.12"
  },
  "orig_nbformat": 4
 },
 "nbformat": 4,
 "nbformat_minor": 2
}
