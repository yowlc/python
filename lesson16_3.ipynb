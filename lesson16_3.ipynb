{
 "cells": [
  {
   "cell_type": "code",
   "execution_count": 8,
   "metadata": {},
   "outputs": [
    {
     "name": "stdout",
     "output_type": "stream",
     "text": [
      "   縣市   年分   人口\n",
      "0  台北  100  2.2\n",
      "1  台中  200  2.5\n",
      "2  台南  300  2.7\n",
      "3  高雄  400  1.1\n",
      "\n",
      "   縣市   年分   人口\n",
      "0  台北  100  2.2\n",
      "1  台中  200  2.5\n",
      "2  台南  300  2.7\n",
      "3  高雄  400  1.1\n"
     ]
    }
   ],
   "source": [
    "# DataFrame\n",
    "\n",
    "# 用 dict 建立 DataFrame\n",
    "sdata = {\n",
    "    '縣市':['台北', '台中', '台南', '高雄'],\n",
    "    '年分':[100, 200, 300, 400],\n",
    "    '人口':[2.2, 2.5, 2.7, 1.1]\n",
    "}\n",
    "\n",
    "frame = pd.DataFrame(sdata)\n",
    "print(frame)\n",
    "\n",
    "print()\n",
    "\n",
    "# 用 list 建立 DataFrame台中\n",
    "data = [\n",
    "    {'縣市':'台北', '年分':100, '人口':2.2},\n",
    "    {'縣市':'台中', '年分':200, '人口':2.5},\n",
    "    {'縣市':'台南', '年分':300, '人口':2.7},\n",
    "    {'縣市':'高雄', '年分':400, '人口':1.1},\n",
    "]\n",
    "\n",
    "frame1 = pd.DataFrame(data)\n",
    "print(frame1)"
   ]
  }
 ],
 "metadata": {
  "kernelspec": {
   "display_name": "Python 3",
   "language": "python",
   "name": "python3"
  },
  "language_info": {
   "codemirror_mode": {
    "name": "ipython",
    "version": 3
   },
   "file_extension": ".py",
   "mimetype": "text/x-python",
   "name": "python",
   "nbconvert_exporter": "python",
   "pygments_lexer": "ipython3",
   "version": "3.10.12"
  },
  "orig_nbformat": 4
 },
 "nbformat": 4,
 "nbformat_minor": 2
}
