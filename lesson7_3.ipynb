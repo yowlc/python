{
 "cells": [
  {
   "cell_type": "code",
   "execution_count": 20,
   "metadata": {},
   "outputs": [
    {
     "name": "stdout",
     "output_type": "stream",
     "text": [
      "abcdefghijklmnopqrstuvwxyz\n",
      "\n",
      "Hello there~\n",
      "How are you?\n",
      "I'm doing fine.\n",
      "\n"
     ]
    }
   ],
   "source": [
    "# 字串 是 串列資料\n",
    "\n",
    "# words = \"That is Alice's cat.\"\n",
    "# words = 'That is Alice\\'s cat.'\n",
    "\n",
    "\n",
    "for word in \"abcdefghijklmnopqrstuvwxyz\":\n",
    "    print(word, end='')\n",
    "\n",
    "print('\\n')\n",
    "\n",
    "print(\"Hello there~\\nHow are you?\\nI'm doing fine.\")\n",
    "print()\n"
   ]
  },
  {
   "cell_type": "code",
   "execution_count": 21,
   "metadata": {},
   "outputs": [
    {
     "name": "stdout",
     "output_type": "stream",
     "text": [
      "That is Carol\\'s cats\n",
      "That is Carol\\'s cats\n"
     ]
    }
   ],
   "source": [
    "# r -> 原生字, 不當作是 特殊字\n",
    "print(r'That is Carol\\'s cats')\n",
    "\n",
    "#r->raw(原生字)\n",
    "print(r'That is Carol\\'s cats')"
   ]
  },
  {
   "cell_type": "code",
   "execution_count": 17,
   "metadata": {},
   "outputs": [
    {
     "data": {
      "text/plain": [
       "\"Dear Alice,Eve's cat hasbeen arrested for catnapping,cat burglary, and extortion.Sincerely,Bob\""
      ]
     },
     "execution_count": 17,
     "metadata": {},
     "output_type": "execute_result"
    }
   ],
   "source": [
    "#單行文字\n",
    "sentens = \"Dear Alice,Eve's cat has\\\n",
    "been arrested for catnapping,\\\n",
    "cat burglary, and extortion.\\\n",
    "Sincerely,Bob\"\n",
    "\n",
    "sentens"
   ]
  },
  {
   "cell_type": "code",
   "execution_count": 22,
   "metadata": {},
   "outputs": [
    {
     "name": "stdout",
     "output_type": "stream",
     "text": [
      "Dear Alice,Eve's cat has been arrested for catnapping,\n",
      "\n",
      " cat burglary, and extortion.\n",
      "\n",
      "Sincerely,Bob\n"
     ]
    }
   ],
   "source": [
    "#多行文字\n",
    "sentens1 = \"Dear Alice,Eve's cat has been arrested for catnapping,\\n\\n cat burglary, and extortion.\\n\\nSincerely,Bob\"\n",
    "print(sentens1)"
   ]
  },
  {
   "cell_type": "code",
   "execution_count": 23,
   "metadata": {},
   "outputs": [
    {
     "name": "stdout",
     "output_type": "stream",
     "text": [
      "Dear Alice,Eve's cat has been arrested for catnapping,\n",
      "\n",
      "cat burglary, and extortion.\n",
      "\n",
      "Sincerely,Bob\n"
     ]
    }
   ],
   "source": [
    "#多行文字\n",
    "sentens2 = '''Dear Alice,Eve's cat has been arrested for catnapping,\n",
    "\n",
    "cat burglary, and extortion.\n",
    "\n",
    "Sincerely,Bob'''\n",
    "\n",
    "print(sentens2)"
   ]
  },
  {
   "cell_type": "code",
   "execution_count": 25,
   "metadata": {},
   "outputs": [
    {
     "name": "stdout",
     "output_type": "stream",
     "text": [
      "400\n",
      "Help on function add3 in module __main__:\n",
      "\n",
      "add3(first: int, second: int) -> int\n",
      "    這是 加總 的 函數\n",
      "    first -> 第一個參數\n",
      "    second -> 第二個參數\n",
      "\n"
     ]
    }
   ],
   "source": [
    "# 多行文字, 當作說明\n",
    "\n",
    "def add3(first:int, second:int) -> int:\n",
    "    '''\n",
    "    這是 加總 的 函數\n",
    "    first -> 第一個參數\n",
    "    second -> 第二個參數\n",
    "    '''\n",
    "    return first + second\n",
    "\n",
    "print(add3(100, 300))\n",
    "\n",
    "help(add3)"
   ]
  },
  {
   "cell_type": "code",
   "execution_count": 35,
   "metadata": {},
   "outputs": [
    {
     "name": "stdout",
     "output_type": "stream",
     "text": [
      "26\n",
      "3\n",
      "\n",
      "z\n",
      "誰\n"
     ]
    }
   ],
   "source": [
    "word1 = \"abcdefghijklmnopqrstuvwxyz\"\n",
    "print(len(word1))\n",
    "\n",
    "word2 = \"我是誰\"\n",
    "print(len(word2))\n",
    "\n",
    "# 串列資料 index 從 0 開始\n",
    "# len() 傳回 字串長度\n",
    "print()\n",
    "print(word1[25])\n",
    "print(word2[len(word2)-1])\n"
   ]
  },
  {
   "cell_type": "code",
   "execution_count": 51,
   "metadata": {},
   "outputs": [
    {
     "name": "stdout",
     "output_type": "stream",
     "text": [
      "H\n",
      "d\n",
      "ello\n",
      "Hell\n",
      "Hello\n",
      "Worl\n",
      "World\n"
     ]
    }
   ],
   "source": [
    "# 字串的切割 [n:m]\n",
    "word = \"Hello World\"\n",
    "print(word[0])\n",
    "print(word[-1])\n",
    "\n",
    "v1 = 1\n",
    "v2 = 4\n",
    "print(word[v1:v2+1])\n",
    "print(word[0:4])        # 第 4 個 不包含, 抓 0 ~ 3\n",
    "print(word[:5])         # 抓 最前 5 個\n",
    "print(word[-5:-1])      # -1 不包含\n",
    "print(word[-5:])        # 抓 最後 5 個\n"
   ]
  },
  {
   "cell_type": "code",
   "execution_count": 53,
   "metadata": {},
   "outputs": [
    {
     "name": "stdout",
     "output_type": "stream",
     "text": [
      "王大一\n"
     ]
    }
   ],
   "source": [
    "name = \"編號1-王大一\"\n",
    "print(name[-3:])\n"
   ]
  }
 ],
 "metadata": {
  "kernelspec": {
   "display_name": "Python 3",
   "language": "python",
   "name": "python3"
  },
  "language_info": {
   "codemirror_mode": {
    "name": "ipython",
    "version": 3
   },
   "file_extension": ".py",
   "mimetype": "text/x-python",
   "name": "python",
   "nbconvert_exporter": "python",
   "pygments_lexer": "ipython3",
   "version": "3.10.12"
  },
  "orig_nbformat": 4
 },
 "nbformat": 4,
 "nbformat_minor": 2
}
