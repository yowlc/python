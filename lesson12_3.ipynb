{
 "cells": [
  {
   "cell_type": "code",
   "execution_count": 57,
   "metadata": {},
   "outputs": [
    {
     "data": {
      "text/plain": [
       "{'0050': '元大台灣50', '0051': '元大中型100', '0052': '富邦科技'}"
      ]
     },
     "metadata": {},
     "output_type": "display_data"
    },
    {
     "name": "stdout",
     "output_type": "stream",
     "text": [
      "富邦科技\n"
     ]
    }
   ],
   "source": [
    "import csv\n",
    "\n",
    "filename = '個股日成交資訊'\n",
    "\n",
    "# 將 csv 檔案 讀出來\n",
    "with open(f'{filename}.csv', encoding='utf-8', newline='') as file:\n",
    "    csv_reader = csv.reader(file)\n",
    "    # next() 跳到下一行\n",
    "    next(csv_reader)\n",
    "\n",
    "    # 將 csv_reader 實體 轉成 list\n",
    "    csv_list = list(csv_reader)\n",
    "\n",
    "dict1 = {x[0]:x[1] for x in csv_list}\n",
    "display(dict1)\n",
    "print(dict1[\"0052\"])\n"
   ]
  },
  {
   "cell_type": "code",
   "execution_count": 52,
   "metadata": {},
   "outputs": [
    {
     "data": {
      "text/plain": [
       "[['0050', '元大台灣50', '46,790,503', '3,463,425,684', '72.80', '-2.05', '23,021'],\n",
       " ['0051', '元大中型100', '43,172', '1,177,199', '26.75', '-0.52', '45'],\n",
       " ['0052', '富邦科技', '161,425', '9,156,750', '55.35', '-2.35', '67']]"
      ]
     },
     "execution_count": 52,
     "metadata": {},
     "output_type": "execute_result"
    }
   ],
   "source": [
    "import csv\n",
    "\n",
    "filename = '個股日成交資訊'\n",
    "\n",
    "# 將 csv 檔案 讀出來\n",
    "with open(f'{filename}.csv', encoding='utf-8', newline='') as file:\n",
    "    csv_reader = csv.reader(file)\n",
    "    # next() 跳到下一行\n",
    "    next(csv_reader)\n",
    " \n",
    "    all_list = []\n",
    "    for item in csv_reader:\n",
    "        all_list.append([item[0], item[1], item[2], item[3], item[7], item[8], item[9]])\n",
    "\n",
    "all_list"
   ]
  },
  {
   "cell_type": "code",
   "execution_count": 54,
   "metadata": {},
   "outputs": [
    {
     "data": {
      "text/plain": [
       "[['0050', '元大台灣50', '46,790,503', '3,463,425,684', '72.80', '23,021'],\n",
       " ['0051', '元大中型100', '43,172', '1,177,199', '26.75', '45'],\n",
       " ['0052', '富邦科技', '161,425', '9,156,750', '55.35', '67']]"
      ]
     },
     "execution_count": 54,
     "metadata": {},
     "output_type": "execute_result"
    }
   ],
   "source": [
    "import csv\n",
    "\n",
    "filename = '個股日成交資訊'\n",
    "\n",
    "# 將 csv 檔案 讀出來\n",
    "with open(f'{filename}.csv', encoding='utf-8', newline='') as file:\n",
    "    csv_reader = csv.reader(file)\n",
    "    # next() 跳到下一行\n",
    "    next(csv_reader)\n",
    " \n",
    "    # list comprehension\n",
    "    all_list = [[item[0], item[1], item[2], item[3], item[7], item[9]] for item in csv_reader]\n",
    "\n",
    "all_list"
   ]
  },
  {
   "cell_type": "code",
   "execution_count": 55,
   "metadata": {},
   "outputs": [
    {
     "data": {
      "text/plain": [
       "[{'證券代號': '0050',\n",
       "  '證券名稱': '元大台灣50',\n",
       "  '成交股數': '46,790,503',\n",
       "  '成交金額': '3,463,425,684',\n",
       "  '收盤價': '72.80',\n",
       "  '漲跌價差': '-2.05',\n",
       "  '成交筆數': '23,021'},\n",
       " {'證券代號': '0051',\n",
       "  '證券名稱': '元大中型100',\n",
       "  '成交股數': '43,172',\n",
       "  '成交金額': '1,177,199',\n",
       "  '收盤價': '26.75',\n",
       "  '漲跌價差': '-0.52',\n",
       "  '成交筆數': '45'},\n",
       " {'證券代號': '0052',\n",
       "  '證券名稱': '富邦科技',\n",
       "  '成交股數': '161,425',\n",
       "  '成交金額': '9,156,750',\n",
       "  '收盤價': '55.35',\n",
       "  '漲跌價差': '-2.35',\n",
       "  '成交筆數': '67'}]"
      ]
     },
     "execution_count": 55,
     "metadata": {},
     "output_type": "execute_result"
    }
   ],
   "source": [
    "import csv\n",
    "\n",
    "filename = '個股日成交資訊'\n",
    "\n",
    "# 將 csv 檔案 讀出來\n",
    "with open(f'{filename}.csv', encoding='utf-8', newline='') as file:\n",
    "    csv_reader = csv.reader(file)\n",
    "    # next() 跳到下一行\n",
    "    next(csv_reader)\n",
    "    \n",
    "    #dictionary comprehension\n",
    "    all_dict = [{'證券代號':item[0],\n",
    "                 '證券名稱':item[1],\n",
    "                 '成交股數':item[2],\n",
    "                 '成交金額':item[3],\n",
    "                 '收盤價':item[7],\n",
    "                 '漲跌價差':item[8],\n",
    "                 '成交筆數':item[9]} for item in csv_reader]\n",
    "\n",
    "all_dict"
   ]
  },
  {
   "cell_type": "code",
   "execution_count": 49,
   "metadata": {},
   "outputs": [
    {
     "name": "stdout",
     "output_type": "stream",
     "text": [
      "{'證券代號': '0050', '證券名稱': '元大台灣50', '成交股數': '46,790,503', '成交金額': '3,463,425,684', '收盤價': '74.95', '漲跌價差': '75.25', '成交筆數': '72.80', '不要的': ['72.80', '-2.05', '23,021']}\n",
      "{'證券代號': '0051', '證券名稱': '元大中型100', '成交股數': '43,172', '成交金額': '1,177,199', '收盤價': '27.30', '漲跌價差': '27.57', '成交筆數': '26.75', '不要的': ['26.75', '-0.52', '45']}\n",
      "{'證券代號': '0052', '證券名稱': '富邦科技', '成交股數': '161,425', '成交金額': '9,156,750', '收盤價': '57.60', '漲跌價差': '57.60', '成交筆數': '55.35', '不要的': ['55.35', '-2.35', '67']}\n"
     ]
    }
   ],
   "source": [
    "import csv\n",
    "\n",
    "filename = '個股日成交資訊'\n",
    "\n",
    "# 將 csv 檔案 讀出來\n",
    "with open(f'{filename}.csv', encoding='utf-8', newline='') as file:\n",
    "    fileds = ['證券代號', '證券名稱', '成交股數', '成交金額', '收盤價', '漲跌價差', '成交筆數']\n",
    "    csv_dictreader = csv.DictReader(file, fieldnames=fileds, restkey='不要的')\n",
    "    \n",
    "    next(csv_dictreader)\n",
    "    \n",
    "    for row in csv_dictreader:\n",
    "        print(row)"
   ]
  }
 ],
 "metadata": {
  "kernelspec": {
   "display_name": "Python 3",
   "language": "python",
   "name": "python3"
  },
  "language_info": {
   "codemirror_mode": {
    "name": "ipython",
    "version": 3
   },
   "file_extension": ".py",
   "mimetype": "text/x-python",
   "name": "python",
   "nbconvert_exporter": "python",
   "pygments_lexer": "ipython3",
   "version": "3.10.12"
  },
  "orig_nbformat": 4
 },
 "nbformat": 4,
 "nbformat_minor": 2
}
