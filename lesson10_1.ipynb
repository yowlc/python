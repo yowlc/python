{
 "cells": [
  {
   "cell_type": "code",
   "execution_count": 20,
   "metadata": {},
   "outputs": [
    {
     "name": "stdout",
     "output_type": "stream",
     "text": [
      "['陳怡伶', '馮芳如', '蒙淑惠'] ['趙家豪', '龐皓芳', '張彥博'] 299\n"
     ]
    }
   ],
   "source": [
    "# 開檔案\n",
    "file1 = open('names.txt', encoding=\"utf-8\")\n",
    "str1 = file1.read()\n",
    "file1.close()\n",
    "# print(str1)\n",
    "\n",
    "# 使用 with as, 會自動 close() 關檔\n",
    "with open('names.txt', encoding=\"utf-8\") as file1:\n",
    "    str1 = file1.read()\n",
    "# print(str1)\n",
    "\n",
    "# 字串 轉換成 串列\n",
    "list1 = str1.split('\\n')\n",
    "print(list1[:3], list1[-3:], len(list1))\n"
   ]
  },
  {
   "cell_type": "code",
   "execution_count": 64,
   "metadata": {},
   "outputs": [
    {
     "name": "stdout",
     "output_type": "stream",
     "text": [
      "===== 命名系統 =====\n",
      "\n",
      "\n",
      "賴韋成\n",
      "賴慧君\n",
      "賴奎夫\n",
      "xx淑芳\n",
      "xx建宏\n",
      "結束\n"
     ]
    }
   ],
   "source": [
    "import random\n",
    "\n",
    "def allNames() -> list:\n",
    "    with open('names.txt', encoding=\"utf-8\") as file1:\n",
    "        name_list = []\n",
    "        for x in file1:\n",
    "            name_list.append(x.replace('\\n', ''))\n",
    "            # name_list.append(x[:3])\n",
    "    \n",
    "    return name_list\n",
    "\n",
    "# print(name_list[152])\n",
    "\n",
    "print('===== 命名系統 =====\\n\\n')\n",
    "while True :\n",
    "    name_list = allNames()\n",
    "\n",
    "    # 隨機 串列 抓 幾筆\n",
    "    first_name = input('請輸入 姓:')\n",
    "    counts = int(input('請輸入筆數:'))\n",
    "    list1 = random.choices(name_list, k=counts)\n",
    "    for x in list1:\n",
    "        print(first_name + x[-2:])\n",
    "\n",
    "    isagain = input('是否繼續嗎?(y/n)')\n",
    "    # 轉小寫\n",
    "    if isagain.lower() == 'n':\n",
    "        break\n",
    "\n",
    "print('結束')"
   ]
  }
 ],
 "metadata": {
  "kernelspec": {
   "display_name": "Python 3",
   "language": "python",
   "name": "python3"
  },
  "language_info": {
   "codemirror_mode": {
    "name": "ipython",
    "version": 3
   },
   "file_extension": ".py",
   "mimetype": "text/x-python",
   "name": "python",
   "nbconvert_exporter": "python",
   "pygments_lexer": "ipython3",
   "version": "3.10.12"
  },
  "orig_nbformat": 4
 },
 "nbformat": 4,
 "nbformat_minor": 2
}
