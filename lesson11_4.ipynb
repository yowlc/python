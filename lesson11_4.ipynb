{
 "cells": [
  {
   "cell_type": "code",
   "execution_count": 14,
   "metadata": {},
   "outputs": [
    {
     "data": {
      "text/plain": [
       "[['林群清', '63', '94', '59', '87', '53'],\n",
       " ['黃淑芬', '54', '55', '64', '64', '53'],\n",
       " ['趙宛真', '85', '76', '74', '83', '96'],\n",
       " ['潘俊賢', '85', '69', '60', '73', '99'],\n",
       " ['林建宏', '98', '85', '71', '94', '85'],\n",
       " ['李湘婷', '59', '56', '62', '94', '66'],\n",
       " ['陳凱翔', '70', '56', '58', '77', '81'],\n",
       " ['黃靜怡', '97', '67', '87', '84', '79'],\n",
       " ['許淑婷', '58', '71', '80', '70', '86'],\n",
       " ['簡美君', '56', '69', '60', '60', '100']]"
      ]
     },
     "metadata": {},
     "output_type": "display_data"
    },
    {
     "name": "stdout",
     "output_type": "stream",
     "text": [
      "['林建宏', '98', '85', '71', '94', '85']\n"
     ]
    }
   ],
   "source": [
    "import csv\n",
    "\n",
    "filename = 'lesson11_3'\n",
    "\n",
    "# 將 csv 檔案 讀出來\n",
    "with open(f'{filename}.csv', encoding='utf-8', newline='') as file:\n",
    "    csv_reader = csv.reader(file)\n",
    "    # next() 跳到下一行\n",
    "    next(csv_reader)\n",
    "\n",
    "    # 將 csv_reader 實體 轉成 list\n",
    "    csv_list = list(csv_reader)\n",
    "    display(csv_list)\n",
    "\n",
    "for stu in csv_list:\n",
    "    if stu[0] == '林建宏':\n",
    "        print(stu)\n",
    "        break\n"
   ]
  }
 ],
 "metadata": {
  "kernelspec": {
   "display_name": "Python 3",
   "language": "python",
   "name": "python3"
  },
  "language_info": {
   "codemirror_mode": {
    "name": "ipython",
    "version": 3
   },
   "file_extension": ".py",
   "mimetype": "text/x-python",
   "name": "python",
   "nbconvert_exporter": "python",
   "pygments_lexer": "ipython3",
   "version": "3.10.12"
  },
  "orig_nbformat": 4
 },
 "nbformat": 4,
 "nbformat_minor": 2
}
