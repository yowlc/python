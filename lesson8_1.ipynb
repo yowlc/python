{
 "cells": [
  {
   "cell_type": "code",
   "execution_count": 29,
   "metadata": {},
   "outputs": [
    {
     "name": "stdout",
     "output_type": "stream",
     "text": [
      "Hello! World!\n",
      "Hello! World!\n"
     ]
    },
    {
     "data": {
      "text/plain": [
       "str"
      ]
     },
     "metadata": {},
     "output_type": "display_data"
    },
    {
     "name": "stdout",
     "output_type": "stream",
     "text": [
      "Hello! world!\n"
     ]
    },
    {
     "data": {
      "text/plain": [
       "'Hello! world!'"
      ]
     },
     "metadata": {},
     "output_type": "display_data"
    }
   ],
   "source": [
    "greeting = \"Hello! World!\"\n",
    "print(greeting[:6], greeting[-6:])\n",
    "print(greeting[0:13])\n",
    "\n",
    "display(type(greeting))\n",
    "\n",
    "# 字首轉大寫, 其它為小寫 capitalize()\n",
    "print(str.capitalize(greeting))\n",
    "display(greeting.capitalize())\n"
   ]
  },
  {
   "cell_type": "code",
   "execution_count": 31,
   "metadata": {},
   "outputs": [
    {
     "name": "stdout",
     "output_type": "stream",
     "text": [
      "Penny\n",
      "Penny\n"
     ]
    }
   ],
   "source": [
    "# 置換\n",
    "name = \"Henny\"\n",
    "print(name.replace(\"H\", \"P\"))\n",
    "print(\"P\" + name[1:])"
   ]
  },
  {
   "cell_type": "code",
   "execution_count": 48,
   "metadata": {},
   "outputs": [
    {
     "name": "stdout",
     "output_type": "stream",
     "text": [
      "8\n",
      "8\n",
      "-1\n",
      "a-b-c-d-e\n",
      "['python', 'java', 'c++', 'ruby']\n"
     ]
    }
   ],
   "source": [
    "# 搜尋 .find\n",
    "str1 = \"this is Python Tutorial, there\"\n",
    "print(str.find(str1, \"Python\"))\n",
    "print(str1.find('Python'))\n",
    "print(str1.find('python'))\n",
    "\n",
    "# 連結 .join()\n",
    "print(\"-\".join('abcde'))\n",
    "\n",
    "# 切割 .split\n",
    "str2 = \"python,java,c++,ruby\"\n",
    "print(str2.split(','))\n",
    "str3 = str2.split(',')\n",
    "\n",
    "# "
   ]
  },
  {
   "cell_type": "code",
   "execution_count": 56,
   "metadata": {},
   "outputs": [
    {
     "name": "stdout",
     "output_type": "stream",
     "text": [
      "您的年齡:35\n"
     ]
    }
   ],
   "source": [
    "age = input('請輸入年齡:')\n",
    "\n",
    "if not age.isdigit():\n",
    "    print('輸入錯誤')\n",
    "else:\n",
    "    print(f'您的年齡:{age}')\n"
   ]
  },
  {
   "cell_type": "code",
   "execution_count": 62,
   "metadata": {},
   "outputs": [
    {
     "name": "stdout",
     "output_type": "stream",
     "text": [
      "               hello\n",
      "hello               \n",
      "       hello        \n",
      "-------hello--------\n"
     ]
    }
   ],
   "source": [
    "str1 = 'hello'\n",
    "\n",
    "# 建立 20個字, 靠右\n",
    "print(str1.rjust(20))\n",
    "\n",
    "# 建立 20個字, 靠左\n",
    "print(str1.ljust(20))\n",
    "\n",
    "# 置中\n",
    "print(str1.center(20))\n",
    "print(str1.center(20,'-'))"
   ]
  },
  {
   "cell_type": "code",
   "execution_count": 66,
   "metadata": {},
   "outputs": [
    {
     "name": "stdout",
     "output_type": "stream",
     "text": [
      "---------早餐---------\n",
      "早餐..................   35\n",
      "::::::::::::::::::早餐\n"
     ]
    }
   ],
   "source": [
    "print('早餐'.center(20,'-'))\n",
    "print('早餐'.ljust(20,'.') + '35'.rjust(5))\n",
    "print('早餐'.rjust(20,':'))\n",
    "\n"
   ]
  },
  {
   "cell_type": "code",
   "execution_count": 91,
   "metadata": {},
   "outputs": [
    {
     "name": "stdout",
     "output_type": "stream",
     "text": [
      "手機是:1234-123-123\n",
      "手機是:1234-123-123\n"
     ]
    }
   ],
   "source": [
    "# 檢查台灣手機號碼格式(xxxx-xxx-xxx)\n",
    "def isPhoneNumber(text:str) -> bool:\n",
    "    valret = True\n",
    "\n",
    "    if len(text) != 12:\n",
    "        valret = False\n",
    "    elif (text[4] + text[8]) != '--':\n",
    "        valret = False\n",
    "    elif (not (text.replace('-','')).isdigit()):\n",
    "        valret = False\n",
    "    \n",
    "    return valret\n",
    "\n",
    "def isPhoneNumber1(text:str) -> bool:\n",
    "    if len(text) != 12:\n",
    "        return False\n",
    "    elif not text[:4].isdigit():\n",
    "        return False\n",
    "    elif text[4] != \"-\":\n",
    "        return False\n",
    "    elif not text[5:8].isdigit():\n",
    "        return False\n",
    "    elif text[8] != \"-\":\n",
    "        return False\n",
    "    elif not text[-3:].isdigit():\n",
    "        return False\n",
    "    \n",
    "    return True\n",
    "\n",
    "Phone_Num = input('請輸入手機號碼 (xxxx-xxx-xxx):')\n",
    "# Phone_Num = '0928-983-628'\n",
    "if isPhoneNumber(Phone_Num):\n",
    "    print(f'手機是:{Phone_Num}')\n",
    "else:\n",
    "    print(f'手機格式錯誤:{Phone_Num}')\n",
    "\n",
    "if isPhoneNumber1(Phone_Num):\n",
    "    print(f'手機是:{Phone_Num}')\n",
    "else:\n",
    "    print(f'手機格式錯誤:{Phone_Num}')\n"
   ]
  },
  {
   "cell_type": "code",
   "execution_count": 6,
   "metadata": {},
   "outputs": [
    {
     "name": "stdout",
     "output_type": "stream",
     "text": [
      "手機格式 正確:0928-983-628\n"
     ]
    }
   ],
   "source": [
    "# 使用 re 正規則表達式 模組\n",
    "import re\n",
    "\n",
    "def isPhoneNumber(text:str) -> bool:\n",
    "    # 先建立 比對 樣板\n",
    "    # PhoneNumRegx = re.compile(r'\\d\\d\\d\\d-\\d\\d\\d-\\d\\d\\d')\n",
    "    PhoneNumRegx = re.compile(r'[0-9]{4}-[0-9]{3}-[0-9]{3}$')\n",
    "    if PhoneNumRegx.match(text) is None:\n",
    "        return False\n",
    "\n",
    "    return True\n",
    "\n",
    "Phone_Num = '0928-983-628'\n",
    "if isPhoneNumber(Phone_Num):\n",
    "    print(f'手機格式 正確:{Phone_Num}')\n",
    "else:\n",
    "    print(f'手機格式 錯誤:{Phone_Num}')"
   ]
  },
  {
   "cell_type": "code",
   "execution_count": 108,
   "metadata": {},
   "outputs": [
    {
     "name": "stdout",
     "output_type": "stream",
     "text": [
      "hello\n",
      "world\n",
      "hello\\nworld\n"
     ]
    }
   ],
   "source": [
    "print('hello\\nworld')\n",
    "print(r'hello\\nworld')"
   ]
  },
  {
   "cell_type": "code",
   "execution_count": null,
   "metadata": {},
   "outputs": [
    {
     "name": "stdout",
     "output_type": "stream",
     "text": [
      "您的email是:aa@bb.cc.tw\n"
     ]
    }
   ],
   "source": [
    "# 檢查email輸入格式\n",
    "# 正規則表達式\n",
    "#re \n",
    "import re\n",
    "def isEmail(text:str) -> bool:\n",
    "    emailRegex = re.compile(r'^\\w+((-\\w+)|(\\.\\w+))*\\@[A-Za-z0-9]+((\\.|-)[A-Za-z0-9]+)*\\.[A-Za-z]+$')\n",
    "    if emailRegex.match(text) is None:\n",
    "        return False\n",
    "    else:\n",
    "        return True\n",
    "\n",
    "email = 'aa@bb.cc.tw'\n",
    "if isEmail(email):\n",
    "    print(f\"您的email是:{email}\")\n",
    "else:\n",
    "    print(f\"您的email是:{email} ,格式有錯\")\n",
    "  "
   ]
  }
 ],
 "metadata": {
  "kernelspec": {
   "display_name": "Python 3",
   "language": "python",
   "name": "python3"
  },
  "language_info": {
   "codemirror_mode": {
    "name": "ipython",
    "version": 3
   },
   "file_extension": ".py",
   "mimetype": "text/x-python",
   "name": "python",
   "nbconvert_exporter": "python",
   "pygments_lexer": "ipython3",
   "version": "3.10.12"
  },
  "orig_nbformat": 4
 },
 "nbformat": 4,
 "nbformat_minor": 2
}
