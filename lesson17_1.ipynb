{
 "cells": [
  {
   "cell_type": "code",
   "execution_count": 17,
   "metadata": {},
   "outputs": [
    {
     "data": {
      "text/html": [
       "<div>\n",
       "<style scoped>\n",
       "    .dataframe tbody tr th:only-of-type {\n",
       "        vertical-align: middle;\n",
       "    }\n",
       "\n",
       "    .dataframe tbody tr th {\n",
       "        vertical-align: top;\n",
       "    }\n",
       "\n",
       "    .dataframe thead th {\n",
       "        text-align: right;\n",
       "    }\n",
       "</style>\n",
       "<table border=\"1\" class=\"dataframe\">\n",
       "  <thead>\n",
       "    <tr style=\"text-align: right;\">\n",
       "      <th></th>\n",
       "      <th>縣市</th>\n",
       "      <th>人口</th>\n",
       "      <th>補助</th>\n",
       "    </tr>\n",
       "  </thead>\n",
       "  <tbody>\n",
       "    <tr>\n",
       "      <th>0</th>\n",
       "      <td>台北</td>\n",
       "      <td>1000</td>\n",
       "      <td>111.2345</td>\n",
       "    </tr>\n",
       "    <tr>\n",
       "      <th>1</th>\n",
       "      <td>台中</td>\n",
       "      <td>3000</td>\n",
       "      <td>333.4567</td>\n",
       "    </tr>\n",
       "  </tbody>\n",
       "</table>\n",
       "</div>"
      ],
      "text/plain": [
       "   縣市    人口        補助\n",
       "0  台北  1000  111.2345\n",
       "1  台中  3000  333.4567"
      ]
     },
     "metadata": {},
     "output_type": "display_data"
    },
    {
     "data": {
      "text/html": [
       "<style type=\"text/css\">\n",
       "</style>\n",
       "<table id=\"T_e3bbb\">\n",
       "  <thead>\n",
       "    <tr>\n",
       "      <th class=\"blank level0\" >&nbsp;</th>\n",
       "      <th id=\"T_e3bbb_level0_col0\" class=\"col_heading level0 col0\" >縣市</th>\n",
       "      <th id=\"T_e3bbb_level0_col1\" class=\"col_heading level0 col1\" >人口</th>\n",
       "      <th id=\"T_e3bbb_level0_col2\" class=\"col_heading level0 col2\" >補助</th>\n",
       "    </tr>\n",
       "  </thead>\n",
       "  <tbody>\n",
       "    <tr>\n",
       "      <th id=\"T_e3bbb_level0_row0\" class=\"row_heading level0 row0\" >列1</th>\n",
       "      <td id=\"T_e3bbb_row0_col0\" class=\"data row0 col0\" >台北</td>\n",
       "      <td id=\"T_e3bbb_row0_col1\" class=\"data row0 col1\" >1,000</td>\n",
       "      <td id=\"T_e3bbb_row0_col2\" class=\"data row0 col2\" >111.23</td>\n",
       "    </tr>\n",
       "    <tr>\n",
       "      <th id=\"T_e3bbb_level0_row1\" class=\"row_heading level0 row1\" >列2</th>\n",
       "      <td id=\"T_e3bbb_row1_col0\" class=\"data row1 col0\" >台中</td>\n",
       "      <td id=\"T_e3bbb_row1_col1\" class=\"data row1 col1\" >3,000</td>\n",
       "      <td id=\"T_e3bbb_row1_col2\" class=\"data row1 col2\" >333.46</td>\n",
       "    </tr>\n",
       "  </tbody>\n",
       "</table>\n"
      ],
      "text/plain": [
       "<pandas.io.formats.style.Styler at 0x7f13e3ff7fa0>"
      ]
     },
     "execution_count": 17,
     "metadata": {},
     "output_type": "execute_result"
    }
   ],
   "source": [
    "# pip install jinja2\n",
    "\n",
    "import pandas as pd\n",
    "\n",
    "data1 = {   '縣市': ['台北', '台中'],\n",
    "            '人口': [1000, 3000],\n",
    "            '補助': [111.2345, 333.4567]    }\n",
    "\n",
    "df1 = pd.DataFrame(data1)\n",
    "display(df1)\n",
    "\n",
    "# 美化格式\n",
    "df1.style.format(precision=2, thousands=',') \\\n",
    "         .relabel_index(['列1', '列2'])\n"
   ]
  },
  {
   "cell_type": "code",
   "execution_count": 37,
   "metadata": {},
   "outputs": [
    {
     "data": {
      "text/html": [
       "<div>\n",
       "<style scoped>\n",
       "    .dataframe tbody tr th:only-of-type {\n",
       "        vertical-align: middle;\n",
       "    }\n",
       "\n",
       "    .dataframe tbody tr th {\n",
       "        vertical-align: top;\n",
       "    }\n",
       "\n",
       "    .dataframe thead th {\n",
       "        text-align: right;\n",
       "    }\n",
       "</style>\n",
       "<table border=\"1\" class=\"dataframe\">\n",
       "  <thead>\n",
       "    <tr style=\"text-align: right;\">\n",
       "      <th></th>\n",
       "      <th>縣市</th>\n",
       "      <th>人口</th>\n",
       "      <th>補助</th>\n",
       "    </tr>\n",
       "  </thead>\n",
       "  <tbody>\n",
       "    <tr>\n",
       "      <th>0</th>\n",
       "      <td>台北</td>\n",
       "      <td>1000</td>\n",
       "      <td>111.23</td>\n",
       "    </tr>\n",
       "    <tr>\n",
       "      <th>1</th>\n",
       "      <td>台中</td>\n",
       "      <td>3000</td>\n",
       "      <td>333.45</td>\n",
       "    </tr>\n",
       "  </tbody>\n",
       "</table>\n",
       "</div>"
      ],
      "text/plain": [
       "   縣市    人口      補助\n",
       "0  台北  1000  111.23\n",
       "1  台中  3000  333.45"
      ]
     },
     "metadata": {},
     "output_type": "display_data"
    }
   ],
   "source": [
    "import pandas as pd\n",
    "\n",
    "data2 = [   {'縣市':'台北', '人口': 1000, '補助': 111.23},\n",
    "            {'縣市':'台中', '人口': 3000, '補助': 333.45}   ]\n",
    "\n",
    "df2 = pd.DataFrame(data2)\n",
    "display(df2)\n"
   ]
  },
  {
   "cell_type": "code",
   "execution_count": 35,
   "metadata": {},
   "outputs": [
    {
     "name": "stdout",
     "output_type": "stream",
     "text": [
      "[[0.9437487  0.88913991]\n",
      " [0.5575335  0.19105882]\n",
      " [0.96042855 0.08832065]\n",
      " [0.76840659 0.63412661]\n",
      " [0.60090729 0.50046681]]\n",
      "                col1      col2\n",
      "2023-09-01  0.943749  0.889140\n",
      "2023-09-02  0.557533  0.191059\n",
      "2023-09-03  0.960429  0.088321\n",
      "2023-09-04  0.768407  0.634127\n",
      "2023-09-05  0.600907  0.500467\n"
     ]
    },
    {
     "data": {
      "text/html": [
       "<style type=\"text/css\">\n",
       "#T_1dbe3_row0_col0 {\n",
       "  background-color: #016755;\n",
       "  color: #f1f1f1;\n",
       "}\n",
       "#T_1dbe3_row0_col1 {\n",
       "  background-color: #027c7e;\n",
       "  color: #f1f1f1;\n",
       "}\n",
       "#T_1dbe3_row1_col0 {\n",
       "  background-color: #eee4f1;\n",
       "  color: #000000;\n",
       "}\n",
       "#T_1dbe3_row1_col1, #T_1dbe3_row2_col1, #T_1dbe3_row4_col1 {\n",
       "  background-color: #fff7fb;\n",
       "  color: #000000;\n",
       "}\n",
       "#T_1dbe3_row2_col0 {\n",
       "  background-color: #015e4c;\n",
       "  color: #f1f1f1;\n",
       "}\n",
       "#T_1dbe3_row3_col0 {\n",
       "  background-color: #58a2cb;\n",
       "  color: #f1f1f1;\n",
       "}\n",
       "#T_1dbe3_row3_col1 {\n",
       "  background-color: #cacee5;\n",
       "  color: #000000;\n",
       "}\n",
       "#T_1dbe3_row4_col0 {\n",
       "  background-color: #dbd8ea;\n",
       "  color: #000000;\n",
       "}\n",
       "</style>\n",
       "<table id=\"T_1dbe3\">\n",
       "  <caption>體感溫度</caption>\n",
       "  <thead>\n",
       "    <tr>\n",
       "      <th class=\"blank level0\" >&nbsp;</th>\n",
       "      <th id=\"T_1dbe3_level0_col0\" class=\"col_heading level0 col0\" >col1</th>\n",
       "      <th id=\"T_1dbe3_level0_col1\" class=\"col_heading level0 col1\" >col2</th>\n",
       "    </tr>\n",
       "  </thead>\n",
       "  <tbody>\n",
       "    <tr>\n",
       "      <th id=\"T_1dbe3_level0_row0\" class=\"row_heading level0 row0\" >2023-09-01 00:00:00</th>\n",
       "      <td id=\"T_1dbe3_row0_col0\" class=\"data row0 col0\" >乾燥</td>\n",
       "      <td id=\"T_1dbe3_row0_col1\" class=\"data row0 col1\" >乾燥</td>\n",
       "    </tr>\n",
       "    <tr>\n",
       "      <th id=\"T_1dbe3_level0_row1\" class=\"row_heading level0 row1\" >2023-09-02 00:00:00</th>\n",
       "      <td id=\"T_1dbe3_row1_col0\" class=\"data row1 col0\" >潮濕</td>\n",
       "      <td id=\"T_1dbe3_row1_col1\" class=\"data row1 col1\" >溫暖</td>\n",
       "    </tr>\n",
       "    <tr>\n",
       "      <th id=\"T_1dbe3_level0_row2\" class=\"row_heading level0 row2\" >2023-09-03 00:00:00</th>\n",
       "      <td id=\"T_1dbe3_row2_col0\" class=\"data row2 col0\" >乾燥</td>\n",
       "      <td id=\"T_1dbe3_row2_col1\" class=\"data row2 col1\" >溫暖</td>\n",
       "    </tr>\n",
       "    <tr>\n",
       "      <th id=\"T_1dbe3_level0_row3\" class=\"row_heading level0 row3\" >2023-09-04 00:00:00</th>\n",
       "      <td id=\"T_1dbe3_row3_col0\" class=\"data row3 col0\" >乾燥</td>\n",
       "      <td id=\"T_1dbe3_row3_col1\" class=\"data row3 col1\" >潮濕</td>\n",
       "    </tr>\n",
       "    <tr>\n",
       "      <th id=\"T_1dbe3_level0_row4\" class=\"row_heading level0 row4\" >2023-09-05 00:00:00</th>\n",
       "      <td id=\"T_1dbe3_row4_col0\" class=\"data row4 col0\" >潮濕</td>\n",
       "      <td id=\"T_1dbe3_row4_col1\" class=\"data row4 col1\" >潮濕</td>\n",
       "    </tr>\n",
       "  </tbody>\n",
       "</table>\n"
      ],
      "text/plain": [
       "<pandas.io.formats.style.Styler at 0x7f13e24c6ef0>"
      ]
     },
     "execution_count": 35,
     "metadata": {},
     "output_type": "execute_result"
    }
   ],
   "source": [
    "import numpy as np\n",
    "\n",
    "def feel_condition(v) -> str:\n",
    "    if v < 0.35:\n",
    "        return '溫暖'\n",
    "    elif v < 0.75:\n",
    "        return '潮濕'\n",
    "    else:\n",
    "        return '乾燥'\n",
    "\n",
    "# 建立 二維\n",
    "d1 = np.random.rand(5, 2)\n",
    "print(d1)\n",
    "\n",
    "df = pd.DataFrame(d1, \n",
    "                  columns=['col1', 'col2'], \n",
    "                  index=pd.date_range(start='2023-09-01', periods=5))\n",
    "print(df)\n",
    "\n",
    "df.style.format(feel_condition, precision=5, thousands=',') \\\n",
    "        .set_caption('體感溫度') \\\n",
    "        .background_gradient(cmap='PuBuGn', vmin=0.5, vmax=1, axis=None)"
   ]
  },
  {
   "cell_type": "code",
   "execution_count": 47,
   "metadata": {},
   "outputs": [
    {
     "name": "stdout",
     "output_type": "stream",
     "text": [
      "          0         1         2         3         4\n",
      "0  1.123413  0.546257 -0.309977  1.162999 -0.043797\n",
      "1  0.170668  1.675287 -0.950758 -0.713084 -1.158570\n",
      "2  0.113626 -1.227658 -0.996720 -0.246324  0.793215\n",
      "3  0.091633 -0.261991  0.818060  0.273396  1.989950\n",
      "4 -0.491825 -0.983535 -0.595822  0.155526  1.190109\n"
     ]
    },
    {
     "data": {
      "text/html": [
       "<style type=\"text/css\">\n",
       "</style>\n",
       "<table id=\"T_01ac8\">\n",
       "  <thead>\n",
       "    <tr>\n",
       "      <th class=\"blank level0\" >&nbsp;</th>\n",
       "      <th id=\"T_01ac8_level0_col0\" class=\"col_heading level0 col0\" >0</th>\n",
       "      <th id=\"T_01ac8_level0_col2\" class=\"col_heading level0 col2\" >2</th>\n",
       "      <th id=\"T_01ac8_level0_col4\" class=\"col_heading level0 col4\" >4</th>\n",
       "    </tr>\n",
       "  </thead>\n",
       "  <tbody>\n",
       "    <tr>\n",
       "      <th id=\"T_01ac8_level0_row1\" class=\"row_heading level0 row1\" >1</th>\n",
       "      <td id=\"T_01ac8_row1_col0\" class=\"data row1 col0\" >0.170668</td>\n",
       "      <td id=\"T_01ac8_row1_col2\" class=\"data row1 col2\" >-0.950758</td>\n",
       "      <td id=\"T_01ac8_row1_col4\" class=\"data row1 col4\" >-1.158570</td>\n",
       "    </tr>\n",
       "    <tr>\n",
       "      <th id=\"T_01ac8_level0_row3\" class=\"row_heading level0 row3\" >3</th>\n",
       "      <td id=\"T_01ac8_row3_col0\" class=\"data row3 col0\" >0.091633</td>\n",
       "      <td id=\"T_01ac8_row3_col2\" class=\"data row3 col2\" >0.818060</td>\n",
       "      <td id=\"T_01ac8_row3_col4\" class=\"data row3 col4\" >1.989950</td>\n",
       "    </tr>\n",
       "  </tbody>\n",
       "</table>\n"
      ],
      "text/plain": [
       "<pandas.io.formats.style.Styler at 0x7f13e2989210>"
      ]
     },
     "execution_count": 47,
     "metadata": {},
     "output_type": "execute_result"
    }
   ],
   "source": [
    "df = pd.DataFrame(np.random.randn(5, 5))\n",
    "print(df)\n",
    "\n",
    "# 將資料 暫時 隱藏 起來\n",
    "df.style.hide(subset=[0, 2, 4], axis=0) \\\n",
    "        .hide(subset=[1, 3], axis=1)"
   ]
  },
  {
   "cell_type": "code",
   "execution_count": 48,
   "metadata": {},
   "outputs": [
    {
     "name": "stdout",
     "output_type": "stream",
     "text": [
      "          A         B         C         D\n",
      "0 -0.445803  0.953883  2.403731  0.120694\n",
      "1 -0.231955 -1.069121  0.617250  0.459951\n",
      "2 -0.256562 -0.467344  0.583836  0.077020\n",
      "3 -0.990044 -1.370820  0.867922 -0.264918\n",
      "4 -0.234771  0.665252  1.277314  0.781900\n"
     ]
    },
    {
     "data": {
      "text/html": [
       "<style type=\"text/css\">\n",
       "#T_14f4c_row0_col0, #T_14f4c_row1_col0, #T_14f4c_row1_col1, #T_14f4c_row2_col0, #T_14f4c_row2_col1, #T_14f4c_row3_col0, #T_14f4c_row3_col1, #T_14f4c_row3_col3, #T_14f4c_row4_col0 {\n",
       "  color: red;\n",
       "}\n",
       "</style>\n",
       "<table id=\"T_14f4c\">\n",
       "  <thead>\n",
       "    <tr>\n",
       "      <th class=\"blank level0\" >&nbsp;</th>\n",
       "      <th id=\"T_14f4c_level0_col0\" class=\"col_heading level0 col0\" >A</th>\n",
       "      <th id=\"T_14f4c_level0_col1\" class=\"col_heading level0 col1\" >B</th>\n",
       "      <th id=\"T_14f4c_level0_col2\" class=\"col_heading level0 col2\" >C</th>\n",
       "      <th id=\"T_14f4c_level0_col3\" class=\"col_heading level0 col3\" >D</th>\n",
       "    </tr>\n",
       "  </thead>\n",
       "  <tbody>\n",
       "    <tr>\n",
       "      <th id=\"T_14f4c_level0_row0\" class=\"row_heading level0 row0\" >0</th>\n",
       "      <td id=\"T_14f4c_row0_col0\" class=\"data row0 col0\" >-0.445803</td>\n",
       "      <td id=\"T_14f4c_row0_col1\" class=\"data row0 col1\" >0.953883</td>\n",
       "      <td id=\"T_14f4c_row0_col2\" class=\"data row0 col2\" >2.403731</td>\n",
       "      <td id=\"T_14f4c_row0_col3\" class=\"data row0 col3\" >0.120694</td>\n",
       "    </tr>\n",
       "    <tr>\n",
       "      <th id=\"T_14f4c_level0_row1\" class=\"row_heading level0 row1\" >1</th>\n",
       "      <td id=\"T_14f4c_row1_col0\" class=\"data row1 col0\" >-0.231955</td>\n",
       "      <td id=\"T_14f4c_row1_col1\" class=\"data row1 col1\" >-1.069121</td>\n",
       "      <td id=\"T_14f4c_row1_col2\" class=\"data row1 col2\" >0.617250</td>\n",
       "      <td id=\"T_14f4c_row1_col3\" class=\"data row1 col3\" >0.459951</td>\n",
       "    </tr>\n",
       "    <tr>\n",
       "      <th id=\"T_14f4c_level0_row2\" class=\"row_heading level0 row2\" >2</th>\n",
       "      <td id=\"T_14f4c_row2_col0\" class=\"data row2 col0\" >-0.256562</td>\n",
       "      <td id=\"T_14f4c_row2_col1\" class=\"data row2 col1\" >-0.467344</td>\n",
       "      <td id=\"T_14f4c_row2_col2\" class=\"data row2 col2\" >0.583836</td>\n",
       "      <td id=\"T_14f4c_row2_col3\" class=\"data row2 col3\" >0.077020</td>\n",
       "    </tr>\n",
       "    <tr>\n",
       "      <th id=\"T_14f4c_level0_row3\" class=\"row_heading level0 row3\" >3</th>\n",
       "      <td id=\"T_14f4c_row3_col0\" class=\"data row3 col0\" >-0.990044</td>\n",
       "      <td id=\"T_14f4c_row3_col1\" class=\"data row3 col1\" >-1.370820</td>\n",
       "      <td id=\"T_14f4c_row3_col2\" class=\"data row3 col2\" >0.867922</td>\n",
       "      <td id=\"T_14f4c_row3_col3\" class=\"data row3 col3\" >-0.264918</td>\n",
       "    </tr>\n",
       "    <tr>\n",
       "      <th id=\"T_14f4c_level0_row4\" class=\"row_heading level0 row4\" >4</th>\n",
       "      <td id=\"T_14f4c_row4_col0\" class=\"data row4 col0\" >-0.234771</td>\n",
       "      <td id=\"T_14f4c_row4_col1\" class=\"data row4 col1\" >0.665252</td>\n",
       "      <td id=\"T_14f4c_row4_col2\" class=\"data row4 col2\" >1.277314</td>\n",
       "      <td id=\"T_14f4c_row4_col3\" class=\"data row4 col3\" >0.781900</td>\n",
       "    </tr>\n",
       "  </tbody>\n",
       "</table>\n"
      ],
      "text/plain": [
       "<pandas.io.formats.style.Styler at 0x7f13e24da200>"
      ]
     },
     "execution_count": 48,
     "metadata": {},
     "output_type": "execute_result"
    }
   ],
   "source": [
    "def style_negative(v, props=''):\n",
    "    return props if v < 0 else None\n",
    "\n",
    "df = pd.DataFrame(np.random.randn(5, 4), \n",
    "                  columns=['A', 'B', 'C', 'D'])\n",
    "print(df)\n",
    "\n",
    "df.style.map(style_negative, props='color:red;')"
   ]
  }
 ],
 "metadata": {
  "kernelspec": {
   "display_name": "Python 3",
   "language": "python",
   "name": "python3"
  },
  "language_info": {
   "codemirror_mode": {
    "name": "ipython",
    "version": 3
   },
   "file_extension": ".py",
   "mimetype": "text/x-python",
   "name": "python",
   "nbconvert_exporter": "python",
   "pygments_lexer": "ipython3",
   "version": "3.10.12"
  },
  "orig_nbformat": 4
 },
 "nbformat": 4,
 "nbformat_minor": 2
}
