{
 "cells": [
  {
   "cell_type": "code",
   "execution_count": 31,
   "metadata": {},
   "outputs": [
    {
     "name": "stdout",
     "output_type": "stream",
     "text": [
      "90\n",
      "100\n",
      "星期一\n",
      "星期日\n",
      "['星期一', '星期二', '星期三']\n",
      "['星期五', '星期六', '星期日']\n"
     ]
    }
   ],
   "source": [
    "# 使用 符號 [], 建立 list\n",
    "List1 = [50, 100, 90]\n",
    "print(List1[-1])\n",
    "print(List1[1])\n",
    "\n",
    "weekdays = ['星期一', '星期二', '星期三', '星期四', '星期五', '星期六', '星期日']\n",
    "print(weekdays[0])\n",
    "print(weekdays[-1])\n",
    "print(weekdays[:3])     # 最前面三個\n",
    "print(weekdays[-3:])    # 最後面三個\n"
   ]
  },
  {
   "cell_type": "code",
   "execution_count": 39,
   "metadata": {},
   "outputs": [
    {
     "name": "stdout",
     "output_type": "stream",
     "text": [
      "['c', 'a', 't']\n",
      "[0, 1, 2, 3, 4, 5, 6, 7, 8, 9]\n"
     ]
    }
   ],
   "source": [
    "# 使用 list() 建立 list\n",
    "print( list('cat') )\n",
    "print( list( range(0, 10) ))\n"
   ]
  },
  {
   "cell_type": "code",
   "execution_count": 37,
   "metadata": {},
   "outputs": [
    {
     "name": "stdout",
     "output_type": "stream",
     "text": [
      "[]\n",
      "[]\n"
     ]
    }
   ],
   "source": [
    "# 建立 空的 list\n",
    "list1 = []\n",
    "print( list1 )\n",
    "\n",
    "list2 = list()\n",
    "print( list2 )"
   ]
  },
  {
   "cell_type": "code",
   "execution_count": 68,
   "metadata": {},
   "outputs": [
    {
     "name": "stdout",
     "output_type": "stream",
     "text": [
      "01/03/2001\n"
     ]
    }
   ],
   "source": [
    "birthday = \"1/3/2001\"\n",
    "list1 = birthday.split(sep='/')\n",
    "list2 = []\n",
    "for item in list1:\n",
    "    if int(item) // 10 == 0:\n",
    "        item = \"0\" + item\n",
    "    list2.append(item)\n",
    "\n",
    "list2 = '/'.join(list2)\n",
    "print(list2)\n"
   ]
  },
  {
   "cell_type": "code",
   "execution_count": 7,
   "metadata": {},
   "outputs": [
    {
     "name": "stdout",
     "output_type": "stream",
     "text": [
      "['台北', '台中', '高雄', '屏東']\n",
      "['基隆', '台北', '台中', '高雄', '屏東']\n",
      "['台中', '台北', '基隆', '屏東', '高雄']\n",
      "['台北', '基隆', '屏東', '高雄']\n",
      "屏東 有在 list 裡面\n",
      "[]\n"
     ]
    }
   ],
   "source": [
    "cities = ['台北', '台中', '高雄']\n",
    "\n",
    "# 加在最後面\n",
    "cities.append('屏東')\n",
    "print(cities)\n",
    "\n",
    "# 加在某一個位置之前\n",
    "cities.insert(0, '基隆')\n",
    "print(cities)\n",
    "\n",
    "# 排序\n",
    "cities.sort()\n",
    "print(cities)\n",
    "\n",
    "# 移除 某一個值\n",
    "try:\n",
    "    cities.remove('台中')\n",
    "except:\n",
    "    print('沒有此元素')\n",
    "print(cities)\n",
    "\n",
    "fstr1 = '屏東'\n",
    "if fstr1 in cities:\n",
    "    print(f'{fstr1} 有在 list 裡面')\n",
    "else:\n",
    "    print(f'{fstr1} 沒有在 list 裡面')\n",
    "\n",
    "# 清除 全部 list\n",
    "cities.clear()\n",
    "print(cities)\n"
   ]
  },
  {
   "cell_type": "code",
   "execution_count": 2,
   "metadata": {},
   "outputs": [
    {
     "name": "stdout",
     "output_type": "stream",
     "text": [
      "台北\n",
      "台中\n",
      "高雄\n"
     ]
    },
    {
     "data": {
      "text/plain": [
       "tuple"
      ]
     },
     "execution_count": 2,
     "metadata": {},
     "output_type": "execute_result"
    }
   ],
   "source": [
    "# tuple, 用 () 建立, 只可以讀取元素, 無法 刪除, 新增....\n",
    "cities_tuple = ('台北', '台中', '高雄')\n",
    "for item in cities_tuple:\n",
    "    print(item)\n",
    "\n",
    "type(cities_tuple)"
   ]
  }
 ],
 "metadata": {
  "kernelspec": {
   "display_name": "Python 3",
   "language": "python",
   "name": "python3"
  },
  "language_info": {
   "codemirror_mode": {
    "name": "ipython",
    "version": 3
   },
   "file_extension": ".py",
   "mimetype": "text/x-python",
   "name": "python",
   "nbconvert_exporter": "python",
   "pygments_lexer": "ipython3",
   "version": "3.10.12"
  },
  "orig_nbformat": 4
 },
 "nbformat": 4,
 "nbformat_minor": 2
}
