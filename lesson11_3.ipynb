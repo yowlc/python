{
 "cells": [
  {
   "cell_type": "code",
   "execution_count": 11,
   "metadata": {},
   "outputs": [
    {
     "data": {
      "text/plain": [
       "[['林群清', 63, 94, 59, 87, 53],\n",
       " ['黃淑芬', 54, 55, 64, 64, 53],\n",
       " ['趙宛真', 85, 76, 74, 83, 96],\n",
       " ['潘俊賢', 85, 69, 60, 73, 99],\n",
       " ['林建宏', 98, 85, 71, 94, 85],\n",
       " ['李湘婷', 59, 56, 62, 94, 66],\n",
       " ['陳凱翔', 70, 56, 58, 77, 81],\n",
       " ['黃靜怡', 97, 67, 87, 84, 79],\n",
       " ['許淑婷', 58, 71, 80, 70, 86],\n",
       " ['簡美君', 56, 69, 60, 60, 100]]"
      ]
     },
     "metadata": {},
     "output_type": "display_data"
    },
    {
     "name": "stdout",
     "output_type": "stream",
     "text": [
      "存檔成功\n"
     ]
    }
   ],
   "source": [
    "import random\n",
    "import csv\n",
    "\n",
    "# 取得 一個學生 的 成績 list\n",
    "# numscore -> 一個學生要有幾個成績\n",
    "def get_scores(numscore : int) -> list:\n",
    "    scores = []\n",
    "    for i in range(numscore):\n",
    "        scores.append(random.randint(50, 100))\n",
    "    return scores\n",
    "\n",
    "def get_names(numstud : int) -> list:\n",
    "    # 取得 姓名\n",
    "    # 使用 with as, 會自動 close() 關檔\n",
    "    with open('names.txt', encoding=\"utf-8\", newline='') as file1:\n",
    "        name_str = file1.read()\n",
    "\n",
    "    # 字串 轉 list\n",
    "    name_list = name_str.split(sep='\\n')\n",
    "    # 隨機取出 特定數量 的內容\n",
    "    return random.choices(name_list, k=numstud)\n",
    "\n",
    "numstud = int(input('請輸入學生數:'))\n",
    "new_name_list = get_names(numstud)\n",
    "\n",
    "all_student = []\n",
    "for x in range(numstud):\n",
    "    # 一個學生有 5 個 成績\n",
    "    tmp_score = get_scores(5)\n",
    "    # 使用 [str] 轉換成 list, ['aaa'] -> list\n",
    "    all_student.append([new_name_list[x]] + tmp_score)\n",
    "\n",
    "display(all_student)\n",
    "\n",
    "# filename = input('請輸入檔案名(csv):')\n",
    "filename = 'lesson11_3'\n",
    "# 將 二維的 list 存成 csv 檔案\n",
    "with open(f'{filename}.csv', mode='w', encoding='utf-8', newline='') as file:\n",
    "    csv_writer = csv.writer(file)\n",
    "    csv_writer.writerow(['姓名', '國文', '英文', '數學', '地理', '歷史'])\n",
    "    csv_writer.writerows(all_student)\n",
    "\n",
    "print('存檔成功')"
   ]
  }
 ],
 "metadata": {
  "kernelspec": {
   "display_name": "Python 3",
   "language": "python",
   "name": "python3"
  },
  "language_info": {
   "codemirror_mode": {
    "name": "ipython",
    "version": 3
   },
   "file_extension": ".py",
   "mimetype": "text/x-python",
   "name": "python",
   "nbconvert_exporter": "python",
   "pygments_lexer": "ipython3",
   "version": "3.10.12"
  },
  "orig_nbformat": 4
 },
 "nbformat": 4,
 "nbformat_minor": 2
}
