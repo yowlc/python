{
 "cells": [
  {
   "cell_type": "code",
   "execution_count": 7,
   "metadata": {},
   "outputs": [
    {
     "name": "stdout",
     "output_type": "stream",
     "text": [
      "10 8 6 4 2 \n",
      "10 8 6 4 2 "
     ]
    }
   ],
   "source": [
    "var1 = 10\n",
    "while var1 > 1:\n",
    "    print(var1, end=' ')\n",
    "    var1 -= 2\n",
    "print('')\n",
    "for i in range(10, 1, -2):\n",
    "    print(i, end=' ')\n"
   ]
  },
  {
   "cell_type": "code",
   "execution_count": 6,
   "metadata": {},
   "outputs": [
    {
     "name": "stdout",
     "output_type": "stream",
     "text": [
      "1 2 3 4 5 "
     ]
    }
   ],
   "source": [
    "var1 = 1\n",
    "while var1 <= 5:\n",
    "    print(var1, end=' ')\n",
    "    var1 += 1\n"
   ]
  },
  {
   "cell_type": "code",
   "execution_count": 26,
   "metadata": {},
   "outputs": [
    {
     "name": "stdout",
     "output_type": "stream",
     "text": [
      "第1個月存10000元, 目前已經存 10000 元\n",
      "第2個月存15000元, 目前已經存 25000 元\n",
      "第3個月存5600元, 目前已經存 30600 元\n",
      "目前已經存了3個月, 已經可以買機車了..\n"
     ]
    }
   ],
   "source": [
    "#小明想要存錢買一輛機車,機車每輛30000元，他將每月存的錢輸入，當存款足夠買機車時，就顯示提示訊息告知。\n",
    "total = 0\n",
    "moto_price = 30000\n",
    "month = 0\n",
    "while total < moto_price:\n",
    "    month += 1\n",
    "    var1 = int(input(f'請輸入第{month}個月份要存的錢:'))\n",
    "    total += var1\n",
    "    print(f'第{month}個月存{var1}元, 目前已經存 {total} 元')\n",
    "\n",
    "print(f'目前已經存了{month}個月, 可以買機車了..')\n"
   ]
  },
  {
   "cell_type": "code",
   "execution_count": 21,
   "metadata": {},
   "outputs": [
    {
     "name": "stdout",
     "output_type": "stream",
     "text": [
      "1 2 3 4 5 6 7 8 9 10 "
     ]
    }
   ],
   "source": [
    "var1 = 1\n",
    "while True:\n",
    "    print(var1, end=' ')\n",
    "    var1 += 1\n",
    "    if var1 > 10:\n",
    "        break\n"
   ]
  },
  {
   "cell_type": "code",
   "execution_count": 25,
   "metadata": {},
   "outputs": [
    {
     "name": "stdout",
     "output_type": "stream",
     "text": [
      "第1個月存10000元, 目前已經存 10000 元\n",
      "第2個月存15000元, 目前已經存 25000 元\n",
      "第3個月存5000元, 目前已經存 30000 元\n",
      "目前已經存了3個月, 已經可以買機車了..\n"
     ]
    }
   ],
   "source": [
    "#小明想要存錢買一輛機車,機車每輛30000元，他將每月存的錢輸入，當存款足夠買機車時，就顯示提示訊息告知。\n",
    "# 使用 break 跳出迴圈\n",
    "total = 0\n",
    "moto_price = 30000\n",
    "month = 0\n",
    "while True:\n",
    "    month += 1\n",
    "    var1 = int(input(f'請輸入第{month}個月份要存的錢:'))\n",
    "    total += var1\n",
    "    print(f'第{month}個月存{var1}元, 目前已經存 {total} 元')\n",
    "    if total >= moto_price:\n",
    "        break\n",
    "\n",
    "print(f'目前已經存了{month}個月, 可以買機車了..')\n"
   ]
  },
  {
   "cell_type": "code",
   "execution_count": 40,
   "metadata": {},
   "outputs": [
    {
     "name": "stdout",
     "output_type": "stream",
     "text": [
      "目前輸入第1次, 輸入內容為:1\n",
      "目前輸入第2次, 輸入內容為:2, 加總為 2\n",
      "目前輸入第3次, 輸入內容為:3\n",
      "目前輸入第4次, 輸入內容為:4, 加總為 6\n",
      "結束, 輸入的次數:4, 正偶數加總為6\n"
     ]
    }
   ],
   "source": [
    "tot = 0\n",
    "num = 0\n",
    "while True:\n",
    "    var1 = int(input(f'請輸入第{num+1}次數字'))\n",
    "    if var1 < 0:\n",
    "        break\n",
    "    num += 1\n",
    "    print(f'目前輸入第{num}次, 輸入內容為:{var1}', end='')\n",
    "    if var1 % 2 == 1:\n",
    "        print()\n",
    "        continue\n",
    "    tot += var1\n",
    "    print(f', 加總為 {tot}')\n",
    "\n",
    "print(f'結束, 輸入的次數:{num}, 正偶數加總為{tot}')"
   ]
  }
 ],
 "metadata": {
  "kernelspec": {
   "display_name": "Python 3",
   "language": "python",
   "name": "python3"
  },
  "language_info": {
   "codemirror_mode": {
    "name": "ipython",
    "version": 3
   },
   "file_extension": ".py",
   "mimetype": "text/x-python",
   "name": "python",
   "nbconvert_exporter": "python",
   "pygments_lexer": "ipython3",
   "version": "3.10.12"
  },
  "orig_nbformat": 4
 },
 "nbformat": 4,
 "nbformat_minor": 2
}
