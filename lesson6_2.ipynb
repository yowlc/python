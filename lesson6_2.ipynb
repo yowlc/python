{
 "cells": [
  {
   "cell_type": "code",
   "execution_count": 17,
   "metadata": {},
   "outputs": [
    {
     "name": "stdout",
     "output_type": "stream",
     "text": [
      "101 104 103 101 102 \n",
      "101 105 101 101 105 "
     ]
    }
   ],
   "source": [
    "# 隨機亂數\n",
    "import random\n",
    "\n",
    "for i in range(5):\n",
    "    # 取 100 ~ 104\n",
    "    print(random.randrange(100, 105), end=' ')\n",
    "print()\n",
    "for i in range(5):\n",
    "    # 取 100 ~ 105\n",
    "    print(random.randint(100, 105), end=' ')"
   ]
  },
  {
   "cell_type": "code",
   "execution_count": 36,
   "metadata": {},
   "outputs": [
    {
     "name": "stdout",
     "output_type": "stream",
     "text": [
      "------猜數字------\n",
      "\n",
      "輸入的數是50, 猜錯了, 已經猜了1次, 再小一點\n",
      "輸入的數是30, 猜錯了, 已經猜了2次, 再小一點\n",
      "輸入的數是20, 猜錯了, 已經猜了3次, 再小一點\n",
      "輸入的數是10, 猜錯了, 已經猜了4次, 再小一點\n",
      "猜對了, 數字是:5, 總共猜了5次\n",
      "遊戲結束\n"
     ]
    }
   ],
   "source": [
    "import random\n",
    "min = 1\n",
    "max = 100\n",
    "target = random.randint(min, max)\n",
    "\n",
    "count = 0\n",
    "print('------猜數字------\\n')\n",
    "\n",
    "while True:\n",
    "    keyin = int(input(f'猜數字的範圍{min}~{max}'))\n",
    "    count += 1\n",
    "    if (keyin < min) or (keyin > max):\n",
    "        print('輸入超出範圍')\n",
    "    else:\n",
    "        if (keyin == target):\n",
    "            print(f'猜對了, 數字是:{target}, 總共猜了{count}次')\n",
    "            break\n",
    "        else:\n",
    "            print(f'輸入的數是{keyin}, 猜錯了, 已經猜了{count}次, ', end='')\n",
    "            if keyin > target:\n",
    "                max = keyin - 1\n",
    "                print('再小一點')\n",
    "            else:\n",
    "                min = keyin + 1\n",
    "                print('再大一點')\n",
    "\n",
    "print('遊戲結束')\n"
   ]
  }
 ],
 "metadata": {
  "kernelspec": {
   "display_name": "Python 3",
   "language": "python",
   "name": "python3"
  },
  "language_info": {
   "codemirror_mode": {
    "name": "ipython",
    "version": 3
   },
   "file_extension": ".py",
   "mimetype": "text/x-python",
   "name": "python",
   "nbconvert_exporter": "python",
   "pygments_lexer": "ipython3",
   "version": "3.10.12"
  },
  "orig_nbformat": 4
 },
 "nbformat": 4,
 "nbformat_minor": 2
}
