{
 "cells": [
  {
   "cell_type": "code",
   "execution_count": 1,
   "metadata": {},
   "outputs": [
    {
     "name": "stdout",
     "output_type": "stream",
     "text": [
      "優\n"
     ]
    }
   ],
   "source": [
    "try:\n",
    "    var1 = int(input('請輸入分數(0~100):'))\n",
    "    # 多項選擇\n",
    "    if (var1 >= 90) and (var1 <= 100):\n",
    "        print('優')\n",
    "    elif (var1 >= 80) and (var1 <= 89):\n",
    "        print('甲')\n",
    "    elif (var1 >= 70) and (var1 <= 79):\n",
    "        print('乙')\n",
    "    elif (var1 >= 60) and (var1 <= 69):\n",
    "        print('丙')\n",
    "    elif (var1 >= 0) and (var1 <= 59):\n",
    "        print('丁')\n",
    "    else:\n",
    "        print('輸入的分數不在 0~100')\n",
    "except:\n",
    "    print('輸入格式錯誤')"
   ]
  },
  {
   "cell_type": "code",
   "execution_count": 19,
   "metadata": {},
   "outputs": [
    {
     "name": "stdout",
     "output_type": "stream",
     "text": [
      "學生等級:優\n"
     ]
    }
   ],
   "source": [
    "# 90(含)~100分為「優」\n",
    "# 80(含)~89分為「甲」\n",
    "# 70(含)~79分為「乙」\n",
    "# 60(含)~69分為「丙」\n",
    "# 0(含)~59分為「丁」\n",
    "\n",
    "score = int(input(\"請輸入學生分數:\"))\n",
    "if score >= 90:\n",
    "    grade = '優'\n",
    "else:\n",
    "    if score >= 80:\n",
    "        grade = '甲'\n",
    "    else:\n",
    "        if score >= 70:\n",
    "            grade = '乙'\n",
    "        else:\n",
    "            if score >= 60:\n",
    "                grade = '丙'\n",
    "            else:\n",
    "                grade = '丁'\n",
    "print(f\"學生等級:{grade}\")"
   ]
  },
  {
   "cell_type": "code",
   "execution_count": 40,
   "metadata": {},
   "outputs": [
    {
     "name": "stdout",
     "output_type": "stream",
     "text": [
      "實付金額:500\n"
     ]
    }
   ],
   "source": [
    "money = int(input('請輸入購買金額:'))\n",
    "payMoney = 0\n",
    "if money >= 100000:\n",
    "    payMoney = money * 0.8\n",
    "elif money >= 50000:\n",
    "    payMoney = money * 0.85\n",
    "elif money >= 30000:\n",
    "    payMoney = money * 0.9\n",
    "elif money >= 10000:\n",
    "    payMoney = money * 0.95\n",
    "else:\n",
    "    payMoney = money\n",
    "\n",
    "print(f'實付金額:{int(payMoney)}')"
   ]
  },
  {
   "cell_type": "code",
   "execution_count": 48,
   "metadata": {},
   "outputs": [
    {
     "name": "stdout",
     "output_type": "stream",
     "text": [
      "實付金額:500\n"
     ]
    }
   ],
   "source": [
    "money = int(input('請輸入購買金額:'))\n",
    "payMoney = 0\n",
    "if money < 10000:\n",
    "    payMoney = money\n",
    "elif money < 30000:\n",
    "    payMoney = money * 0.95\n",
    "elif money < 50000:\n",
    "    payMoney = money * 0.9\n",
    "elif money < 100000:\n",
    "    payMoney = money * 0.85\n",
    "else:\n",
    "    payMoney = money * 0.8\n",
    "\n",
    "print(f'實付金額:{int(payMoney)}')"
   ]
  },
  {
   "cell_type": "code",
   "execution_count": 3,
   "metadata": {},
   "outputs": [
    {
     "name": "stdout",
     "output_type": "stream",
     "text": [
      "輔導級\n"
     ]
    }
   ],
   "source": [
    "age = input('請輸入年齡:')\n",
    "rating = \"\"\n",
    "if age == '':\n",
    "    rating = '普遍級'\n",
    "elif int(age) < 13:\n",
    "    rating = '普遍級'\n",
    "elif int(age) < 18:\n",
    "    rating = '輔導級'\n",
    "else:\n",
    "    rating = '限制級'\n",
    "\n",
    "print(rating)"
   ]
  },
  {
   "cell_type": "code",
   "execution_count": 70,
   "metadata": {},
   "outputs": [
    {
     "name": "stdout",
     "output_type": "stream",
     "text": [
      "加分\n"
     ]
    }
   ],
   "source": [
    "can_add = input('是否要加分:(y,n)')\n",
    "if not (can_add =='n'):\n",
    "    print('加分')\n",
    "else:\n",
    "    print('不加分')"
   ]
  }
 ],
 "metadata": {
  "kernelspec": {
   "display_name": "Python 3",
   "language": "python",
   "name": "python3"
  },
  "language_info": {
   "codemirror_mode": {
    "name": "ipython",
    "version": 3
   },
   "file_extension": ".py",
   "mimetype": "text/x-python",
   "name": "python",
   "nbconvert_exporter": "python",
   "pygments_lexer": "ipython3",
   "version": "3.10.12"
  },
  "orig_nbformat": 4
 },
 "nbformat": 4,
 "nbformat_minor": 2
}
