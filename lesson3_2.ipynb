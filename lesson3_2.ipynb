{
 "cells": [
  {
   "cell_type": "code",
   "execution_count": 7,
   "metadata": {},
   "outputs": [
    {
     "name": "stdout",
     "output_type": "stream",
     "text": [
      "對邊:2.5,斜邊:5,角度為:30.00\n"
     ]
    }
   ],
   "source": [
    "# 高中數學\n",
    "# 內建工具箱\n",
    "import math\n",
    "\n",
    "var1 = eval(input(\"請輸入對邊:\"))\n",
    "var2 = eval(input(\"請輸入斜邊:\"))\n",
    "\n",
    "# sin 弳度 = 對邊 / 斜邊\n",
    "# 弳度 = asin(對邊 / 斜邊)\n",
    "radian = math.asin(var1 / var2)\n",
    "degree = math.degrees(radian)\n",
    "print(f\"對邊:{var1},斜邊:{var2},角度為:{degree:.2f}\")\n"
   ]
  },
  {
   "cell_type": "code",
   "execution_count": 12,
   "metadata": {},
   "outputs": [
    {
     "data": {
      "text/plain": [
       "array([0, 1, 2, 3, 4, 5, 6, 7, 8, 9])"
      ]
     },
     "execution_count": 12,
     "metadata": {},
     "output_type": "execute_result"
    }
   ],
   "source": [
    "# 大學數學 微積分 科學運算\n",
    "# 沒有內建, 要使用 網路套件 numpy, sympy\n",
    "import sympy\n",
    "import numpy\n",
    "\n",
    "numpy.arange(10)"
   ]
  },
  {
   "cell_type": "code",
   "execution_count": 16,
   "metadata": {},
   "outputs": [
    {
     "name": "stdout",
     "output_type": "stream",
     "text": [
      "15\n",
      "20\n",
      "200\n"
     ]
    }
   ],
   "source": [
    "n = 5\n",
    "n = n + 10\n",
    "print(n)\n",
    "\n",
    "n = 10\n",
    "# 複合指定運算子 += -= *= /= //= **=\n",
    "n += 10\n",
    "print(n)\n",
    "\n",
    "n *= 10\n",
    "print(n)"
   ]
  }
 ],
 "metadata": {
  "kernelspec": {
   "display_name": "Python 3",
   "language": "python",
   "name": "python3"
  },
  "language_info": {
   "codemirror_mode": {
    "name": "ipython",
    "version": 3
   },
   "file_extension": ".py",
   "mimetype": "text/x-python",
   "name": "python",
   "nbconvert_exporter": "python",
   "pygments_lexer": "ipython3",
   "version": "3.10.12"
  },
  "orig_nbformat": 4
 },
 "nbformat": 4,
 "nbformat_minor": 2
}
