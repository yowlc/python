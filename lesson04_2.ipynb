{
 "cells": [
  {
   "cell_type": "code",
   "execution_count": 51,
   "metadata": {},
   "outputs": [
    {
     "name": "stdout",
     "output_type": "stream",
     "text": [
      "學生分數:105\n"
     ]
    }
   ],
   "source": [
    "# 學生總分為 300\n",
    "# 有些學生可以加 5%\n",
    "try:\n",
    "    score = int(input('請輸入學生分數(最高300分):'))\n",
    "    if score <= 300:\n",
    "        can_add = input('學生是否可以加分?(y,n)')\n",
    "\n",
    "        if (can_add == 'y'):\n",
    "            score *= 1.05\n",
    "\n",
    "        if (score > 300):\n",
    "            score = 300\n",
    "\n",
    "        print(f\"學生分數:{round(score)}\")\n",
    "    else:\n",
    "        print('學生分數不可以大於300')\n",
    "except:\n",
    "    print('輸入格式錯誤')"
   ]
  },
  {
   "cell_type": "code",
   "execution_count": 43,
   "metadata": {},
   "outputs": [
    {
     "name": "stdout",
     "output_type": "stream",
     "text": [
      "錯誤\n"
     ]
    }
   ],
   "source": [
    "try:\n",
    "    score = int(input('請輸入學生分數(0~100分):'))\n",
    "    if score >= 60:\n",
    "        print('及格')\n",
    "    else:\n",
    "        print('不及格')\n",
    "        \n",
    "except:\n",
    "    print('錯誤')"
   ]
  },
  {
   "cell_type": "code",
   "execution_count": 47,
   "metadata": {},
   "outputs": [
    {
     "name": "stdout",
     "output_type": "stream",
     "text": [
      "輸入格式錯誤\n"
     ]
    }
   ],
   "source": [
    "try:\n",
    "    money = int(input('輸入金額:'))\n",
    "    print(money)\n",
    "except:\n",
    "    print('輸入格式錯誤')"
   ]
  }
 ],
 "metadata": {
  "kernelspec": {
   "display_name": "Python 3",
   "language": "python",
   "name": "python3"
  },
  "language_info": {
   "codemirror_mode": {
    "name": "ipython",
    "version": 3
   },
   "file_extension": ".py",
   "mimetype": "text/x-python",
   "name": "python",
   "nbconvert_exporter": "python",
   "pygments_lexer": "ipython3",
   "version": "3.10.12"
  },
  "orig_nbformat": 4
 },
 "nbformat": 4,
 "nbformat_minor": 2
}
