{
 "cells": [
  {
   "cell_type": "code",
   "execution_count": 2,
   "metadata": {},
   "outputs": [],
   "source": [
    "# 建立 實體\n",
    "class Student:\n",
    "    # 實體的 attribute 屬性\n",
    "    def __init__(self, name=\"無名氏\", chinese=99, english=99, math=99):\n",
    "        self.name    = name\n",
    "        self.chinese = chinese\n",
    "        self.english = english\n",
    "        self.math    = math\n",
    "\n",
    "    # 實體的 method 方法\n",
    "    def total(self) -> int:\n",
    "        return self.chinese + self.english + self.math\n",
    "    \n",
    "    # 建立 property 屬性, 類似 method, 沒有參數, 一定要傳出一個值\n",
    "    @property\n",
    "    def average(self) -> float:\n",
    "        return round(self.total() / 3.0, 2)\n",
    "    \n",
    "    def __repr__(self):\n",
    "        return f'我是student實體, 我叫{self.name}'\n",
    "    \n",
    "import random\n",
    "# 隨機 建立 學生的 3個成績    \n",
    "def get_student(n:str) -> Student:\n",
    "    ch = random.randint(50, 100)\n",
    "    en = random.randint(50, 100)\n",
    "    ma = random.randint(50, 100)\n",
    "    return Student(name=n, chinese=ch, english=en, math=ma)"
   ]
  },
  {
   "cell_type": "code",
   "execution_count": 77,
   "metadata": {},
   "outputs": [
    {
     "name": "stdout",
     "output_type": "stream",
     "text": [
      "我是student實體, 我叫test\n"
     ]
    },
    {
     "data": {
      "text/plain": [
       "('test', 10, 20, 30, 60, 20.0)"
      ]
     },
     "execution_count": 77,
     "metadata": {},
     "output_type": "execute_result"
    }
   ],
   "source": [
    "test = Student('test', 10, 20, 30)\n",
    "print(test)\n",
    "test.name, test.chinese, test.english, test.math, test.total(), test.average"
   ]
  },
  {
   "cell_type": "code",
   "execution_count": 79,
   "metadata": {},
   "outputs": [
    {
     "name": "stdout",
     "output_type": "stream",
     "text": [
      "我是student實體, 我叫賴麒祐\n"
     ]
    },
    {
     "data": {
      "text/plain": [
       "('賴麒祐', 99, 95, 90, 284, 94.67)"
      ]
     },
     "execution_count": 79,
     "metadata": {},
     "output_type": "execute_result"
    }
   ],
   "source": [
    "stu1 = Student('賴麒祐', 99, 95, 90)\n",
    "print(stu1)\n",
    "print(stu1.name, stu1.chinese, stu1.english, stu1.math, stu1.total(), stu1.average)"
   ]
  },
  {
   "cell_type": "code",
   "execution_count": 80,
   "metadata": {},
   "outputs": [
    {
     "name": "stdout",
     "output_type": "stream",
     "text": [
      "我是student實體, 我叫ABC\n"
     ]
    },
    {
     "data": {
      "text/plain": [
       "('ABC', 60, 70, 85, 215, 71.67)"
      ]
     },
     "execution_count": 80,
     "metadata": {},
     "output_type": "execute_result"
    }
   ],
   "source": [
    "stu2 = Student('ABC', 60, 70, 85)\n",
    "print(stu2)\n",
    "stu2.name, stu2.chinese, stu2.english, stu2.math, stu2.total(), stu2.average"
   ]
  },
  {
   "cell_type": "code",
   "execution_count": 81,
   "metadata": {},
   "outputs": [
    {
     "name": "stdout",
     "output_type": "stream",
     "text": [
      "我是student實體, 我叫無名氏\n"
     ]
    },
    {
     "data": {
      "text/plain": [
       "('無名氏', 88, 99, 99, 286, 95.33)"
      ]
     },
     "execution_count": 81,
     "metadata": {},
     "output_type": "execute_result"
    }
   ],
   "source": [
    "stu3 = Student(chinese = 88)\n",
    "print(stu3)\n",
    "stu3.name, stu3.chinese, stu3.english, stu3.math, stu3.total(), stu3.average"
   ]
  },
  {
   "cell_type": "code",
   "execution_count": 3,
   "metadata": {},
   "outputs": [
    {
     "name": "stdout",
     "output_type": "stream",
     "text": [
      "50 60 70\n",
      "180 60.0\n",
      "我是student實體, 我叫賴麒祐\n",
      "67 83 87\n",
      "237 79.0\n",
      "我是student實體, 我叫ABC\n"
     ]
    }
   ],
   "source": [
    "stud1 = Student('賴麒祐', 50, 60 , 70)\n",
    "print(stud1.chinese, stud1.english, stud1.math)\n",
    "print(stud1.total(), stud1.average)\n",
    "print(stud1)\n",
    "\n",
    "stud2 = get_student('ABC')\n",
    "print(stud2.chinese, stud2.english, stud2.math)\n",
    "print(stud2.total(), stud2.average)\n",
    "print(stud2)"
   ]
  }
 ],
 "metadata": {
  "kernelspec": {
   "display_name": "Python 3",
   "language": "python",
   "name": "python3"
  },
  "language_info": {
   "codemirror_mode": {
    "name": "ipython",
    "version": 3
   },
   "file_extension": ".py",
   "mimetype": "text/x-python",
   "name": "python",
   "nbconvert_exporter": "python",
   "pygments_lexer": "ipython3",
   "version": "3.10.12"
  },
  "orig_nbformat": 4
 },
 "nbformat": 4,
 "nbformat_minor": 2
}
