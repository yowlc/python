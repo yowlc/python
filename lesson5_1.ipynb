{
 "cells": [
  {
   "cell_type": "code",
   "execution_count": 17,
   "metadata": {},
   "outputs": [
    {
     "name": "stdout",
     "output_type": "stream",
     "text": [
      "獎金: 1000\n"
     ]
    }
   ],
   "source": [
    "var1 = int(input('國文分數:'))\n",
    "var2 = int(input('數學分數:'))\n",
    "\n",
    "money = 0\n",
    "if var1 == 100: \n",
    "      if var2 == 100:\n",
    "        money = 1000\n",
    "      else:\n",
    "        money = 500\n",
    "elif var2 == 100:\n",
    "    money = 500\n",
    "\n",
    "print(f\"獎金: {money}\")\n"
   ]
  },
  {
   "cell_type": "code",
   "execution_count": 4,
   "metadata": {},
   "outputs": [
    {
     "name": "stdout",
     "output_type": "stream",
     "text": [
      "獎金: 0\n"
     ]
    }
   ],
   "source": [
    "var1 = int(input('國文分數:'))\n",
    "var2 = int(input('數學分數:'))\n",
    "\n",
    "#巢狀判斷\n",
    "money = 0\n",
    "if var1 == 100 and var2 == 100: \n",
    "    money = 1000\n",
    "elif var1 == 100 or var2 == 100:\n",
    "    money = 500\n",
    "\n",
    "print(f\"獎金: {money}\")"
   ]
  },
  {
   "cell_type": "code",
   "execution_count": 2,
   "metadata": {},
   "outputs": [
    {
     "name": "stdout",
     "output_type": "stream",
     "text": [
      "獎金:500\n"
     ]
    }
   ],
   "source": [
    "chinese = int(input(\"請輸入國文分數\"))\n",
    "math = int(input(\"請輸入數學分數\"))\n",
    "\n",
    "#使用邏輯運算子\n",
    "bonus = 0\n",
    "if chinese == 100 and math == 100:\n",
    "    bonus = 1000\n",
    "elif chinese == 100 or math == 100:\n",
    "    bonus = 500\n",
    "\n",
    "print(f\"獎金:{bonus}\")\n",
    "    "
   ]
  },
  {
   "cell_type": "code",
   "execution_count": 11,
   "metadata": {},
   "outputs": [
    {
     "name": "stdout",
     "output_type": "stream",
     "text": [
      "正常\n",
      "正常\n"
     ]
    }
   ],
   "source": [
    "# 血壓 80 ~ 120 正常\n",
    "\n",
    "var1 = int(input('輸入血壓: '))\n",
    "if var1 >= 80 and var1 <= 120:\n",
    "    print('正常')\n",
    "else:\n",
    "    print('不正常')\n",
    "\n",
    "if var1 < 80 or var1 > 120:\n",
    "    print('不正常')\n",
    "else:\n",
    "    print('正常')"
   ]
  },
  {
   "cell_type": "code",
   "execution_count": 30,
   "metadata": {},
   "outputs": [
    {
     "name": "stdout",
     "output_type": "stream",
     "text": [
      "身高(公分):167\n",
      "體重(公斤):65\n",
      "BMI:23.31\n",
      "結果:標準\n"
     ]
    }
   ],
   "source": [
    "# BMI\n",
    "height = int(input('輸入身高(公分):'))\n",
    "weight = int(input('輸入體重(公斤):'))\n",
    "\n",
    "bmi = weight / (height / 100) ** 2\n",
    "\n",
    "suggest = \"\"\n",
    "\n",
    "if bmi < 18.5:\n",
    "    suggest = \"體重過輕\"\n",
    "elif bmi < 24:\n",
    "    suggest = \"標準\"\n",
    "elif bmi < 27:\n",
    "    suggest = \"過重\"\n",
    "elif bmi < 30:\n",
    "    suggest = \"輕度肥胖\"\n",
    "elif bmi < 35:\n",
    "    suggest = \"中度肥胖\"\n",
    "else:\n",
    "    suggest = \"重度肥胖\"\n",
    "\n",
    "print(f\"身高(公分):{height}\")   \n",
    "print(f\"體重(公斤):{weight}\")\n",
    "print(f\"BMI:{bmi:.2f}\")\n",
    "print(f\"結果:{suggest}\")\n"
   ]
  }
 ],
 "metadata": {
  "kernelspec": {
   "display_name": "Python 3",
   "language": "python",
   "name": "python3"
  },
  "language_info": {
   "codemirror_mode": {
    "name": "ipython",
    "version": 3
   },
   "file_extension": ".py",
   "mimetype": "text/x-python",
   "name": "python",
   "nbconvert_exporter": "python",
   "pygments_lexer": "ipython3",
   "version": "3.10.12"
  },
  "orig_nbformat": 4
 },
 "nbformat": 4,
 "nbformat_minor": 2
}
